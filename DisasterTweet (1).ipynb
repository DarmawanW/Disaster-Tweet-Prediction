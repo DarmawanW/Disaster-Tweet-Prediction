{
  "nbformat": 4,
  "nbformat_minor": 0,
  "metadata": {
    "colab": {
      "name": "DisasterTweet.ipynb",
      "provenance": [],
      "collapsed_sections": []
    },
    "kernelspec": {
      "display_name": "Python 3",
      "name": "python3"
    },
    "language_info": {
      "name": "python"
    },
    "accelerator": "GPU"
  },
  "cells": [
    {
      "cell_type": "markdown",
      "metadata": {
        "id": "hxk7d71SuAp1"
      },
      "source": [
        "# Disaster Tweet Prediction"
      ]
    },
    {
      "cell_type": "markdown",
      "metadata": {
        "id": "sr5XXmY0uEs7"
      },
      "source": [
        "## i. Introduction"
      ]
    },
    {
      "cell_type": "markdown",
      "metadata": {
        "id": "nq-0pgmRClYo"
      },
      "source": [
        "Name : Darmawan Wijaya </br>\n",
        "Purpose: Apply Natural Language Processing to predict tweet"
      ]
    },
    {
      "cell_type": "markdown",
      "metadata": {
        "id": "buS3IGEQuH3T"
      },
      "source": [
        "## ii. Import Library"
      ]
    },
    {
      "cell_type": "code",
      "metadata": {
        "id": "TJ36qZEkt4gY"
      },
      "source": [
        "import sys\n",
        "import numpy as np\n",
        "import pandas as pd\n",
        "import seaborn as sns\n",
        "import matplotlib.pyplot as plt\n",
        "import nltk\n",
        "import sklearn\n",
        "import tensorflow as tf\n",
        "from tensorflow import keras\n",
        "import os\n",
        "import re\n",
        "import string"
      ],
      "execution_count": 1,
      "outputs": []
    },
    {
      "cell_type": "code",
      "metadata": {
        "id": "w_-PvXuy1h_a"
      },
      "source": [
        "import itertools\n",
        "from sklearn.naive_bayes import MultinomialNB\n",
        "from sklearn.svm import SVC\n",
        "from sklearn.linear_model import LogisticRegression\n",
        "from sklearn.model_selection import cross_val_score\n",
        "from sklearn import metrics\n",
        "from sklearn.metrics import accuracy_score\n",
        "from sklearn.metrics import classification_report\n",
        "from sklearn.metrics import confusion_matrix\n",
        "from sklearn.metrics import f1_score\n",
        "from sklearn.metrics import precision_recall_fscore_support\n",
        "from sklearn.model_selection import train_test_split\n",
        "from sklearn.feature_extraction.text import TfidfVectorizer, CountVectorizer, HashingVectorizer\n",
        "from sklearn.dummy import DummyClassifier"
      ],
      "execution_count": 2,
      "outputs": []
    },
    {
      "cell_type": "markdown",
      "metadata": {
        "id": "oOPkyPtIvXSV"
      },
      "source": [
        "## iii. Data Loading"
      ]
    },
    {
      "cell_type": "code",
      "metadata": {
        "id": "LRYCQweuvWr1"
      },
      "source": [
        "df = pd.read_csv('train.csv')"
      ],
      "execution_count": 3,
      "outputs": []
    },
    {
      "cell_type": "code",
      "metadata": {
        "colab": {
          "base_uri": "https://localhost:8080/",
          "height": 203
        },
        "id": "lVzEBTzkxGJc",
        "outputId": "5a2cd890-e399-40a7-b1a3-1ef6c7729a76"
      },
      "source": [
        "df.head()"
      ],
      "execution_count": 4,
      "outputs": [
        {
          "output_type": "execute_result",
          "data": {
            "text/html": [
              "<div>\n",
              "<style scoped>\n",
              "    .dataframe tbody tr th:only-of-type {\n",
              "        vertical-align: middle;\n",
              "    }\n",
              "\n",
              "    .dataframe tbody tr th {\n",
              "        vertical-align: top;\n",
              "    }\n",
              "\n",
              "    .dataframe thead th {\n",
              "        text-align: right;\n",
              "    }\n",
              "</style>\n",
              "<table border=\"1\" class=\"dataframe\">\n",
              "  <thead>\n",
              "    <tr style=\"text-align: right;\">\n",
              "      <th></th>\n",
              "      <th>id</th>\n",
              "      <th>keyword</th>\n",
              "      <th>location</th>\n",
              "      <th>text</th>\n",
              "      <th>target</th>\n",
              "    </tr>\n",
              "  </thead>\n",
              "  <tbody>\n",
              "    <tr>\n",
              "      <th>0</th>\n",
              "      <td>1</td>\n",
              "      <td>NaN</td>\n",
              "      <td>NaN</td>\n",
              "      <td>Our Deeds are the Reason of this #earthquake M...</td>\n",
              "      <td>1</td>\n",
              "    </tr>\n",
              "    <tr>\n",
              "      <th>1</th>\n",
              "      <td>4</td>\n",
              "      <td>NaN</td>\n",
              "      <td>NaN</td>\n",
              "      <td>Forest fire near La Ronge Sask. Canada</td>\n",
              "      <td>1</td>\n",
              "    </tr>\n",
              "    <tr>\n",
              "      <th>2</th>\n",
              "      <td>5</td>\n",
              "      <td>NaN</td>\n",
              "      <td>NaN</td>\n",
              "      <td>All residents asked to 'shelter in place' are ...</td>\n",
              "      <td>1</td>\n",
              "    </tr>\n",
              "    <tr>\n",
              "      <th>3</th>\n",
              "      <td>6</td>\n",
              "      <td>NaN</td>\n",
              "      <td>NaN</td>\n",
              "      <td>13,000 people receive #wildfires evacuation or...</td>\n",
              "      <td>1</td>\n",
              "    </tr>\n",
              "    <tr>\n",
              "      <th>4</th>\n",
              "      <td>7</td>\n",
              "      <td>NaN</td>\n",
              "      <td>NaN</td>\n",
              "      <td>Just got sent this photo from Ruby #Alaska as ...</td>\n",
              "      <td>1</td>\n",
              "    </tr>\n",
              "  </tbody>\n",
              "</table>\n",
              "</div>"
            ],
            "text/plain": [
              "   id keyword  ...                                               text target\n",
              "0   1     NaN  ...  Our Deeds are the Reason of this #earthquake M...      1\n",
              "1   4     NaN  ...             Forest fire near La Ronge Sask. Canada      1\n",
              "2   5     NaN  ...  All residents asked to 'shelter in place' are ...      1\n",
              "3   6     NaN  ...  13,000 people receive #wildfires evacuation or...      1\n",
              "4   7     NaN  ...  Just got sent this photo from Ruby #Alaska as ...      1\n",
              "\n",
              "[5 rows x 5 columns]"
            ]
          },
          "metadata": {},
          "execution_count": 4
        }
      ]
    },
    {
      "cell_type": "code",
      "metadata": {
        "colab": {
          "base_uri": "https://localhost:8080/"
        },
        "id": "cM7lOAR6xT_t",
        "outputId": "80977941-eee5-4c4d-a3e9-7f76f9e4b6e2"
      },
      "source": [
        "df.info()"
      ],
      "execution_count": 5,
      "outputs": [
        {
          "output_type": "stream",
          "name": "stdout",
          "text": [
            "<class 'pandas.core.frame.DataFrame'>\n",
            "RangeIndex: 7613 entries, 0 to 7612\n",
            "Data columns (total 5 columns):\n",
            " #   Column    Non-Null Count  Dtype \n",
            "---  ------    --------------  ----- \n",
            " 0   id        7613 non-null   int64 \n",
            " 1   keyword   7552 non-null   object\n",
            " 2   location  5080 non-null   object\n",
            " 3   text      7613 non-null   object\n",
            " 4   target    7613 non-null   int64 \n",
            "dtypes: int64(2), object(3)\n",
            "memory usage: 297.5+ KB\n"
          ]
        }
      ]
    },
    {
      "cell_type": "code",
      "metadata": {
        "colab": {
          "base_uri": "https://localhost:8080/"
        },
        "id": "zElNptSSxJe9",
        "outputId": "9fca4657-c32b-438e-dd67-c4a99a4802fd"
      },
      "source": [
        "df.isnull().sum()"
      ],
      "execution_count": 6,
      "outputs": [
        {
          "output_type": "execute_result",
          "data": {
            "text/plain": [
              "id             0\n",
              "keyword       61\n",
              "location    2533\n",
              "text           0\n",
              "target         0\n",
              "dtype: int64"
            ]
          },
          "metadata": {},
          "execution_count": 6
        }
      ]
    },
    {
      "cell_type": "code",
      "metadata": {
        "colab": {
          "base_uri": "https://localhost:8080/"
        },
        "id": "T3zSr-67xbA9",
        "outputId": "be174386-9935-415d-f623-c75961679b26"
      },
      "source": [
        "df.location.nunique()"
      ],
      "execution_count": 7,
      "outputs": [
        {
          "output_type": "execute_result",
          "data": {
            "text/plain": [
              "3341"
            ]
          },
          "metadata": {},
          "execution_count": 7
        }
      ]
    },
    {
      "cell_type": "code",
      "metadata": {
        "colab": {
          "base_uri": "https://localhost:8080/"
        },
        "id": "_AS9hr5SxiP8",
        "outputId": "b1ebe3fe-e1ad-45a9-dc05-218c49bc1e57"
      },
      "source": [
        "df.keyword.nunique()"
      ],
      "execution_count": 8,
      "outputs": [
        {
          "output_type": "execute_result",
          "data": {
            "text/plain": [
              "221"
            ]
          },
          "metadata": {},
          "execution_count": 8
        }
      ]
    },
    {
      "cell_type": "code",
      "metadata": {
        "id": "7f4bwdgQxmuU"
      },
      "source": [
        "disastertweet = df[['target', 'text']].copy()"
      ],
      "execution_count": 9,
      "outputs": []
    },
    {
      "cell_type": "code",
      "metadata": {
        "colab": {
          "base_uri": "https://localhost:8080/",
          "height": 203
        },
        "id": "jcKk7rYzx4ek",
        "outputId": "26504759-8155-489a-cf38-6015e515a784"
      },
      "source": [
        "disastertweet.head()"
      ],
      "execution_count": 10,
      "outputs": [
        {
          "output_type": "execute_result",
          "data": {
            "text/html": [
              "<div>\n",
              "<style scoped>\n",
              "    .dataframe tbody tr th:only-of-type {\n",
              "        vertical-align: middle;\n",
              "    }\n",
              "\n",
              "    .dataframe tbody tr th {\n",
              "        vertical-align: top;\n",
              "    }\n",
              "\n",
              "    .dataframe thead th {\n",
              "        text-align: right;\n",
              "    }\n",
              "</style>\n",
              "<table border=\"1\" class=\"dataframe\">\n",
              "  <thead>\n",
              "    <tr style=\"text-align: right;\">\n",
              "      <th></th>\n",
              "      <th>target</th>\n",
              "      <th>text</th>\n",
              "    </tr>\n",
              "  </thead>\n",
              "  <tbody>\n",
              "    <tr>\n",
              "      <th>0</th>\n",
              "      <td>1</td>\n",
              "      <td>Our Deeds are the Reason of this #earthquake M...</td>\n",
              "    </tr>\n",
              "    <tr>\n",
              "      <th>1</th>\n",
              "      <td>1</td>\n",
              "      <td>Forest fire near La Ronge Sask. Canada</td>\n",
              "    </tr>\n",
              "    <tr>\n",
              "      <th>2</th>\n",
              "      <td>1</td>\n",
              "      <td>All residents asked to 'shelter in place' are ...</td>\n",
              "    </tr>\n",
              "    <tr>\n",
              "      <th>3</th>\n",
              "      <td>1</td>\n",
              "      <td>13,000 people receive #wildfires evacuation or...</td>\n",
              "    </tr>\n",
              "    <tr>\n",
              "      <th>4</th>\n",
              "      <td>1</td>\n",
              "      <td>Just got sent this photo from Ruby #Alaska as ...</td>\n",
              "    </tr>\n",
              "  </tbody>\n",
              "</table>\n",
              "</div>"
            ],
            "text/plain": [
              "   target                                               text\n",
              "0       1  Our Deeds are the Reason of this #earthquake M...\n",
              "1       1             Forest fire near La Ronge Sask. Canada\n",
              "2       1  All residents asked to 'shelter in place' are ...\n",
              "3       1  13,000 people receive #wildfires evacuation or...\n",
              "4       1  Just got sent this photo from Ruby #Alaska as ..."
            ]
          },
          "metadata": {},
          "execution_count": 10
        }
      ]
    },
    {
      "cell_type": "markdown",
      "metadata": {
        "id": "uP_N1W-fyI3V"
      },
      "source": [
        "## Preprocessing"
      ]
    },
    {
      "cell_type": "code",
      "metadata": {
        "colab": {
          "base_uri": "https://localhost:8080/"
        },
        "id": "07ZIMifaogSc",
        "outputId": "09e79f4f-dd53-4840-da45-d5c44bb89121"
      },
      "source": [
        "nltk.download('stopwords')"
      ],
      "execution_count": 11,
      "outputs": [
        {
          "output_type": "stream",
          "name": "stdout",
          "text": [
            "[nltk_data] Downloading package stopwords to /root/nltk_data...\n",
            "[nltk_data]   Package stopwords is already up-to-date!\n"
          ]
        },
        {
          "output_type": "execute_result",
          "data": {
            "text/plain": [
              "True"
            ]
          },
          "metadata": {},
          "execution_count": 11
        }
      ]
    },
    {
      "cell_type": "code",
      "metadata": {
        "id": "fxqBHhRH01p8"
      },
      "source": [
        "disastertweet.reset_index(inplace=True)"
      ],
      "execution_count": 12,
      "outputs": []
    },
    {
      "cell_type": "code",
      "metadata": {
        "colab": {
          "base_uri": "https://localhost:8080/"
        },
        "id": "GgdVdT9FoU_x",
        "outputId": "c68a5c77-4122-47e0-e170-b601dd0fdf2e"
      },
      "source": [
        "# stopwords\n",
        "from nltk.corpus import stopwords\n",
        "\n",
        "stop_words = set(stopwords.words(\"english\"))\n",
        "print(stop_words)"
      ],
      "execution_count": 13,
      "outputs": [
        {
          "output_type": "stream",
          "name": "stdout",
          "text": [
            "{'her', 've', 'themselves', \"wasn't\", 'above', 'she', 'whom', 'out', 'he', 'each', 'too', 'll', 'aren', 'they', 'there', \"that'll\", 'haven', \"shouldn't\", 'all', 'in', 'them', 'if', 't', 'couldn', 'who', \"weren't\", 'while', 'and', 'under', 'his', \"hadn't\", 'himself', 'weren', 'what', 'me', 'your', 'through', 'any', 'shouldn', 'until', 'this', \"she's\", 'because', 'from', 'that', 'not', 'you', 'down', 'further', 'o', 'having', 'most', 'only', \"you'd\", 'am', 'didn', 'nor', 'here', 'y', 'itself', \"aren't\", \"isn't\", 'myself', 'of', 'its', 'were', \"should've\", 'between', 'ourselves', 'once', 'more', \"haven't\", 'our', 'isn', 'some', 'we', 'have', 'theirs', 'when', 'i', 'own', 'those', 'had', 'yourselves', 'do', 'hers', 'hasn', 'mustn', 'for', 'during', 'same', 'again', 'my', 'just', 'd', 'into', 'few', \"you'll\", 'where', 'these', 'before', 'did', 'against', \"it's\", 'been', 'other', 'below', 'which', \"didn't\", 'yours', 'over', \"wouldn't\", 'how', 'with', 'm', 'hadn', 'be', 'a', 'very', 'shan', 'so', 'both', 'won', 'doesn', 'has', 'to', 's', 'him', 'herself', \"needn't\", 'their', 'then', 'than', 'wasn', 'can', 'ma', 'off', 'about', 'but', 'ain', \"mustn't\", 'at', 'does', \"shan't\", 'why', \"doesn't\", 'wouldn', 'no', 'ours', 'such', 'as', 'doing', 'are', 'or', 'after', 'it', \"hasn't\", \"mightn't\", \"you're\", \"couldn't\", 'by', \"don't\", 'now', 'should', 'mightn', 'is', 'on', 'was', \"won't\", 'being', 'needn', 'don', \"you've\", 'up', 'the', 'yourself', 'will', 're', 'an'}\n"
          ]
        }
      ]
    },
    {
      "cell_type": "code",
      "metadata": {
        "colab": {
          "base_uri": "https://localhost:8080/",
          "height": 203
        },
        "id": "IideR81U06EV",
        "outputId": "c0e06259-335b-4002-df0a-8223073d7ec3"
      },
      "source": [
        "# Stopwords\n",
        "disastertweet['stopwords'] = disastertweet['text'].apply(lambda x: len([x for x in x.split() if x in stop_words]))\n",
        "disastertweet[['text','stopwords']].head()"
      ],
      "execution_count": 14,
      "outputs": [
        {
          "output_type": "execute_result",
          "data": {
            "text/html": [
              "<div>\n",
              "<style scoped>\n",
              "    .dataframe tbody tr th:only-of-type {\n",
              "        vertical-align: middle;\n",
              "    }\n",
              "\n",
              "    .dataframe tbody tr th {\n",
              "        vertical-align: top;\n",
              "    }\n",
              "\n",
              "    .dataframe thead th {\n",
              "        text-align: right;\n",
              "    }\n",
              "</style>\n",
              "<table border=\"1\" class=\"dataframe\">\n",
              "  <thead>\n",
              "    <tr style=\"text-align: right;\">\n",
              "      <th></th>\n",
              "      <th>text</th>\n",
              "      <th>stopwords</th>\n",
              "    </tr>\n",
              "  </thead>\n",
              "  <tbody>\n",
              "    <tr>\n",
              "      <th>0</th>\n",
              "      <td>Our Deeds are the Reason of this #earthquake M...</td>\n",
              "      <td>5</td>\n",
              "    </tr>\n",
              "    <tr>\n",
              "      <th>1</th>\n",
              "      <td>Forest fire near La Ronge Sask. Canada</td>\n",
              "      <td>0</td>\n",
              "    </tr>\n",
              "    <tr>\n",
              "      <th>2</th>\n",
              "      <td>All residents asked to 'shelter in place' are ...</td>\n",
              "      <td>9</td>\n",
              "    </tr>\n",
              "    <tr>\n",
              "      <th>3</th>\n",
              "      <td>13,000 people receive #wildfires evacuation or...</td>\n",
              "      <td>1</td>\n",
              "    </tr>\n",
              "    <tr>\n",
              "      <th>4</th>\n",
              "      <td>Just got sent this photo from Ruby #Alaska as ...</td>\n",
              "      <td>6</td>\n",
              "    </tr>\n",
              "  </tbody>\n",
              "</table>\n",
              "</div>"
            ],
            "text/plain": [
              "                                                text  stopwords\n",
              "0  Our Deeds are the Reason of this #earthquake M...          5\n",
              "1             Forest fire near La Ronge Sask. Canada          0\n",
              "2  All residents asked to 'shelter in place' are ...          9\n",
              "3  13,000 people receive #wildfires evacuation or...          1\n",
              "4  Just got sent this photo from Ruby #Alaska as ...          6"
            ]
          },
          "metadata": {},
          "execution_count": 14
        }
      ]
    },
    {
      "cell_type": "code",
      "metadata": {
        "colab": {
          "base_uri": "https://localhost:8080/",
          "height": 203
        },
        "id": "1vdTBKpY1JEU",
        "outputId": "6b826e43-fc3f-42e0-ba24-8b2bacbce1a3"
      },
      "source": [
        "# Punctuation\n",
        "def count_punct(text):\n",
        "    count = sum([1 for char in text if char in string.punctuation])\n",
        "    return count\n",
        "\n",
        "disastertweet['punctuation'] = disastertweet['text'].apply(lambda x: count_punct(x))\n",
        "disastertweet[['text','punctuation']].head()"
      ],
      "execution_count": 15,
      "outputs": [
        {
          "output_type": "execute_result",
          "data": {
            "text/html": [
              "<div>\n",
              "<style scoped>\n",
              "    .dataframe tbody tr th:only-of-type {\n",
              "        vertical-align: middle;\n",
              "    }\n",
              "\n",
              "    .dataframe tbody tr th {\n",
              "        vertical-align: top;\n",
              "    }\n",
              "\n",
              "    .dataframe thead th {\n",
              "        text-align: right;\n",
              "    }\n",
              "</style>\n",
              "<table border=\"1\" class=\"dataframe\">\n",
              "  <thead>\n",
              "    <tr style=\"text-align: right;\">\n",
              "      <th></th>\n",
              "      <th>text</th>\n",
              "      <th>punctuation</th>\n",
              "    </tr>\n",
              "  </thead>\n",
              "  <tbody>\n",
              "    <tr>\n",
              "      <th>0</th>\n",
              "      <td>Our Deeds are the Reason of this #earthquake M...</td>\n",
              "      <td>1</td>\n",
              "    </tr>\n",
              "    <tr>\n",
              "      <th>1</th>\n",
              "      <td>Forest fire near La Ronge Sask. Canada</td>\n",
              "      <td>1</td>\n",
              "    </tr>\n",
              "    <tr>\n",
              "      <th>2</th>\n",
              "      <td>All residents asked to 'shelter in place' are ...</td>\n",
              "      <td>3</td>\n",
              "    </tr>\n",
              "    <tr>\n",
              "      <th>3</th>\n",
              "      <td>13,000 people receive #wildfires evacuation or...</td>\n",
              "      <td>2</td>\n",
              "    </tr>\n",
              "    <tr>\n",
              "      <th>4</th>\n",
              "      <td>Just got sent this photo from Ruby #Alaska as ...</td>\n",
              "      <td>2</td>\n",
              "    </tr>\n",
              "  </tbody>\n",
              "</table>\n",
              "</div>"
            ],
            "text/plain": [
              "                                                text  punctuation\n",
              "0  Our Deeds are the Reason of this #earthquake M...            1\n",
              "1             Forest fire near La Ronge Sask. Canada            1\n",
              "2  All residents asked to 'shelter in place' are ...            3\n",
              "3  13,000 people receive #wildfires evacuation or...            2\n",
              "4  Just got sent this photo from Ruby #Alaska as ...            2"
            ]
          },
          "metadata": {},
          "execution_count": 15
        }
      ]
    },
    {
      "cell_type": "code",
      "metadata": {
        "colab": {
          "base_uri": "https://localhost:8080/",
          "height": 203
        },
        "id": "uvjR4bWo1WA8",
        "outputId": "8134b00c-1259-4fee-aae3-6e5f640c61cd"
      },
      "source": [
        "# Hastag\n",
        "disastertweet['hastags'] = disastertweet['text'].apply(lambda x: len([x for x in x.split() if x.startswith('#')]))\n",
        "disastertweet[['text','hastags']].head()"
      ],
      "execution_count": 16,
      "outputs": [
        {
          "output_type": "execute_result",
          "data": {
            "text/html": [
              "<div>\n",
              "<style scoped>\n",
              "    .dataframe tbody tr th:only-of-type {\n",
              "        vertical-align: middle;\n",
              "    }\n",
              "\n",
              "    .dataframe tbody tr th {\n",
              "        vertical-align: top;\n",
              "    }\n",
              "\n",
              "    .dataframe thead th {\n",
              "        text-align: right;\n",
              "    }\n",
              "</style>\n",
              "<table border=\"1\" class=\"dataframe\">\n",
              "  <thead>\n",
              "    <tr style=\"text-align: right;\">\n",
              "      <th></th>\n",
              "      <th>text</th>\n",
              "      <th>hastags</th>\n",
              "    </tr>\n",
              "  </thead>\n",
              "  <tbody>\n",
              "    <tr>\n",
              "      <th>0</th>\n",
              "      <td>Our Deeds are the Reason of this #earthquake M...</td>\n",
              "      <td>1</td>\n",
              "    </tr>\n",
              "    <tr>\n",
              "      <th>1</th>\n",
              "      <td>Forest fire near La Ronge Sask. Canada</td>\n",
              "      <td>0</td>\n",
              "    </tr>\n",
              "    <tr>\n",
              "      <th>2</th>\n",
              "      <td>All residents asked to 'shelter in place' are ...</td>\n",
              "      <td>0</td>\n",
              "    </tr>\n",
              "    <tr>\n",
              "      <th>3</th>\n",
              "      <td>13,000 people receive #wildfires evacuation or...</td>\n",
              "      <td>1</td>\n",
              "    </tr>\n",
              "    <tr>\n",
              "      <th>4</th>\n",
              "      <td>Just got sent this photo from Ruby #Alaska as ...</td>\n",
              "      <td>2</td>\n",
              "    </tr>\n",
              "  </tbody>\n",
              "</table>\n",
              "</div>"
            ],
            "text/plain": [
              "                                                text  hastags\n",
              "0  Our Deeds are the Reason of this #earthquake M...        1\n",
              "1             Forest fire near La Ronge Sask. Canada        0\n",
              "2  All residents asked to 'shelter in place' are ...        0\n",
              "3  13,000 people receive #wildfires evacuation or...        1\n",
              "4  Just got sent this photo from Ruby #Alaska as ...        2"
            ]
          },
          "metadata": {},
          "execution_count": 16
        }
      ]
    },
    {
      "cell_type": "code",
      "metadata": {
        "colab": {
          "base_uri": "https://localhost:8080/",
          "height": 203
        },
        "id": "lRAaA1Dq1eD8",
        "outputId": "9e035d87-eaaf-4545-ce2f-420090f63c79"
      },
      "source": [
        "# Numbers / Digits\n",
        "disastertweet['numerics'] = disastertweet['text'].apply(lambda x: len([x for x in x.split() if x.isdigit()]))\n",
        "disastertweet[['text','numerics']].head()"
      ],
      "execution_count": 17,
      "outputs": [
        {
          "output_type": "execute_result",
          "data": {
            "text/html": [
              "<div>\n",
              "<style scoped>\n",
              "    .dataframe tbody tr th:only-of-type {\n",
              "        vertical-align: middle;\n",
              "    }\n",
              "\n",
              "    .dataframe tbody tr th {\n",
              "        vertical-align: top;\n",
              "    }\n",
              "\n",
              "    .dataframe thead th {\n",
              "        text-align: right;\n",
              "    }\n",
              "</style>\n",
              "<table border=\"1\" class=\"dataframe\">\n",
              "  <thead>\n",
              "    <tr style=\"text-align: right;\">\n",
              "      <th></th>\n",
              "      <th>text</th>\n",
              "      <th>numerics</th>\n",
              "    </tr>\n",
              "  </thead>\n",
              "  <tbody>\n",
              "    <tr>\n",
              "      <th>0</th>\n",
              "      <td>Our Deeds are the Reason of this #earthquake M...</td>\n",
              "      <td>0</td>\n",
              "    </tr>\n",
              "    <tr>\n",
              "      <th>1</th>\n",
              "      <td>Forest fire near La Ronge Sask. Canada</td>\n",
              "      <td>0</td>\n",
              "    </tr>\n",
              "    <tr>\n",
              "      <th>2</th>\n",
              "      <td>All residents asked to 'shelter in place' are ...</td>\n",
              "      <td>0</td>\n",
              "    </tr>\n",
              "    <tr>\n",
              "      <th>3</th>\n",
              "      <td>13,000 people receive #wildfires evacuation or...</td>\n",
              "      <td>0</td>\n",
              "    </tr>\n",
              "    <tr>\n",
              "      <th>4</th>\n",
              "      <td>Just got sent this photo from Ruby #Alaska as ...</td>\n",
              "      <td>0</td>\n",
              "    </tr>\n",
              "  </tbody>\n",
              "</table>\n",
              "</div>"
            ],
            "text/plain": [
              "                                                text  numerics\n",
              "0  Our Deeds are the Reason of this #earthquake M...         0\n",
              "1             Forest fire near La Ronge Sask. Canada         0\n",
              "2  All residents asked to 'shelter in place' are ...         0\n",
              "3  13,000 people receive #wildfires evacuation or...         0\n",
              "4  Just got sent this photo from Ruby #Alaska as ...         0"
            ]
          },
          "metadata": {},
          "execution_count": 17
        }
      ]
    },
    {
      "cell_type": "code",
      "metadata": {
        "colab": {
          "base_uri": "https://localhost:8080/",
          "height": 203
        },
        "id": "N0XP7LYC2Qg0",
        "outputId": "7236f9ea-ccf5-49c4-c6b1-60450a87bed9"
      },
      "source": [
        "# Mention\n",
        "disastertweet['mention'] = disastertweet['text'].apply(lambda x: len([x for x in x.split() if x.startswith('@')]))\n",
        "disastertweet[['text','mention']].head()"
      ],
      "execution_count": 18,
      "outputs": [
        {
          "output_type": "execute_result",
          "data": {
            "text/html": [
              "<div>\n",
              "<style scoped>\n",
              "    .dataframe tbody tr th:only-of-type {\n",
              "        vertical-align: middle;\n",
              "    }\n",
              "\n",
              "    .dataframe tbody tr th {\n",
              "        vertical-align: top;\n",
              "    }\n",
              "\n",
              "    .dataframe thead th {\n",
              "        text-align: right;\n",
              "    }\n",
              "</style>\n",
              "<table border=\"1\" class=\"dataframe\">\n",
              "  <thead>\n",
              "    <tr style=\"text-align: right;\">\n",
              "      <th></th>\n",
              "      <th>text</th>\n",
              "      <th>mention</th>\n",
              "    </tr>\n",
              "  </thead>\n",
              "  <tbody>\n",
              "    <tr>\n",
              "      <th>0</th>\n",
              "      <td>Our Deeds are the Reason of this #earthquake M...</td>\n",
              "      <td>0</td>\n",
              "    </tr>\n",
              "    <tr>\n",
              "      <th>1</th>\n",
              "      <td>Forest fire near La Ronge Sask. Canada</td>\n",
              "      <td>0</td>\n",
              "    </tr>\n",
              "    <tr>\n",
              "      <th>2</th>\n",
              "      <td>All residents asked to 'shelter in place' are ...</td>\n",
              "      <td>0</td>\n",
              "    </tr>\n",
              "    <tr>\n",
              "      <th>3</th>\n",
              "      <td>13,000 people receive #wildfires evacuation or...</td>\n",
              "      <td>0</td>\n",
              "    </tr>\n",
              "    <tr>\n",
              "      <th>4</th>\n",
              "      <td>Just got sent this photo from Ruby #Alaska as ...</td>\n",
              "      <td>0</td>\n",
              "    </tr>\n",
              "  </tbody>\n",
              "</table>\n",
              "</div>"
            ],
            "text/plain": [
              "                                                text  mention\n",
              "0  Our Deeds are the Reason of this #earthquake M...        0\n",
              "1             Forest fire near La Ronge Sask. Canada        0\n",
              "2  All residents asked to 'shelter in place' are ...        0\n",
              "3  13,000 people receive #wildfires evacuation or...        0\n",
              "4  Just got sent this photo from Ruby #Alaska as ...        0"
            ]
          },
          "metadata": {},
          "execution_count": 18
        }
      ]
    },
    {
      "cell_type": "code",
      "metadata": {
        "colab": {
          "base_uri": "https://localhost:8080/",
          "height": 203
        },
        "id": "iwlX2EzF2Y-9",
        "outputId": "65b58482-95f3-44a8-96bc-239b53b25530"
      },
      "source": [
        "# URL\n",
        "disastertweet['URL'] = disastertweet['text'].apply(lambda x: len([x for x in x.split() if x.startswith('http' or 'https')]))\n",
        "disastertweet[['text','URL']].head()"
      ],
      "execution_count": 19,
      "outputs": [
        {
          "output_type": "execute_result",
          "data": {
            "text/html": [
              "<div>\n",
              "<style scoped>\n",
              "    .dataframe tbody tr th:only-of-type {\n",
              "        vertical-align: middle;\n",
              "    }\n",
              "\n",
              "    .dataframe tbody tr th {\n",
              "        vertical-align: top;\n",
              "    }\n",
              "\n",
              "    .dataframe thead th {\n",
              "        text-align: right;\n",
              "    }\n",
              "</style>\n",
              "<table border=\"1\" class=\"dataframe\">\n",
              "  <thead>\n",
              "    <tr style=\"text-align: right;\">\n",
              "      <th></th>\n",
              "      <th>text</th>\n",
              "      <th>URL</th>\n",
              "    </tr>\n",
              "  </thead>\n",
              "  <tbody>\n",
              "    <tr>\n",
              "      <th>0</th>\n",
              "      <td>Our Deeds are the Reason of this #earthquake M...</td>\n",
              "      <td>0</td>\n",
              "    </tr>\n",
              "    <tr>\n",
              "      <th>1</th>\n",
              "      <td>Forest fire near La Ronge Sask. Canada</td>\n",
              "      <td>0</td>\n",
              "    </tr>\n",
              "    <tr>\n",
              "      <th>2</th>\n",
              "      <td>All residents asked to 'shelter in place' are ...</td>\n",
              "      <td>0</td>\n",
              "    </tr>\n",
              "    <tr>\n",
              "      <th>3</th>\n",
              "      <td>13,000 people receive #wildfires evacuation or...</td>\n",
              "      <td>0</td>\n",
              "    </tr>\n",
              "    <tr>\n",
              "      <th>4</th>\n",
              "      <td>Just got sent this photo from Ruby #Alaska as ...</td>\n",
              "      <td>0</td>\n",
              "    </tr>\n",
              "  </tbody>\n",
              "</table>\n",
              "</div>"
            ],
            "text/plain": [
              "                                                text  URL\n",
              "0  Our Deeds are the Reason of this #earthquake M...    0\n",
              "1             Forest fire near La Ronge Sask. Canada    0\n",
              "2  All residents asked to 'shelter in place' are ...    0\n",
              "3  13,000 people receive #wildfires evacuation or...    0\n",
              "4  Just got sent this photo from Ruby #Alaska as ...    0"
            ]
          },
          "metadata": {},
          "execution_count": 19
        }
      ]
    },
    {
      "cell_type": "code",
      "metadata": {
        "colab": {
          "base_uri": "https://localhost:8080/",
          "height": 417
        },
        "id": "PkcldZGH2sz9",
        "outputId": "928dbd61-bf22-4d8e-db8b-b356a64a7d66"
      },
      "source": [
        "disastertweet"
      ],
      "execution_count": 20,
      "outputs": [
        {
          "output_type": "execute_result",
          "data": {
            "text/html": [
              "<div>\n",
              "<style scoped>\n",
              "    .dataframe tbody tr th:only-of-type {\n",
              "        vertical-align: middle;\n",
              "    }\n",
              "\n",
              "    .dataframe tbody tr th {\n",
              "        vertical-align: top;\n",
              "    }\n",
              "\n",
              "    .dataframe thead th {\n",
              "        text-align: right;\n",
              "    }\n",
              "</style>\n",
              "<table border=\"1\" class=\"dataframe\">\n",
              "  <thead>\n",
              "    <tr style=\"text-align: right;\">\n",
              "      <th></th>\n",
              "      <th>index</th>\n",
              "      <th>target</th>\n",
              "      <th>text</th>\n",
              "      <th>stopwords</th>\n",
              "      <th>punctuation</th>\n",
              "      <th>hastags</th>\n",
              "      <th>numerics</th>\n",
              "      <th>mention</th>\n",
              "      <th>URL</th>\n",
              "    </tr>\n",
              "  </thead>\n",
              "  <tbody>\n",
              "    <tr>\n",
              "      <th>0</th>\n",
              "      <td>0</td>\n",
              "      <td>1</td>\n",
              "      <td>Our Deeds are the Reason of this #earthquake M...</td>\n",
              "      <td>5</td>\n",
              "      <td>1</td>\n",
              "      <td>1</td>\n",
              "      <td>0</td>\n",
              "      <td>0</td>\n",
              "      <td>0</td>\n",
              "    </tr>\n",
              "    <tr>\n",
              "      <th>1</th>\n",
              "      <td>1</td>\n",
              "      <td>1</td>\n",
              "      <td>Forest fire near La Ronge Sask. Canada</td>\n",
              "      <td>0</td>\n",
              "      <td>1</td>\n",
              "      <td>0</td>\n",
              "      <td>0</td>\n",
              "      <td>0</td>\n",
              "      <td>0</td>\n",
              "    </tr>\n",
              "    <tr>\n",
              "      <th>2</th>\n",
              "      <td>2</td>\n",
              "      <td>1</td>\n",
              "      <td>All residents asked to 'shelter in place' are ...</td>\n",
              "      <td>9</td>\n",
              "      <td>3</td>\n",
              "      <td>0</td>\n",
              "      <td>0</td>\n",
              "      <td>0</td>\n",
              "      <td>0</td>\n",
              "    </tr>\n",
              "    <tr>\n",
              "      <th>3</th>\n",
              "      <td>3</td>\n",
              "      <td>1</td>\n",
              "      <td>13,000 people receive #wildfires evacuation or...</td>\n",
              "      <td>1</td>\n",
              "      <td>2</td>\n",
              "      <td>1</td>\n",
              "      <td>0</td>\n",
              "      <td>0</td>\n",
              "      <td>0</td>\n",
              "    </tr>\n",
              "    <tr>\n",
              "      <th>4</th>\n",
              "      <td>4</td>\n",
              "      <td>1</td>\n",
              "      <td>Just got sent this photo from Ruby #Alaska as ...</td>\n",
              "      <td>6</td>\n",
              "      <td>2</td>\n",
              "      <td>2</td>\n",
              "      <td>0</td>\n",
              "      <td>0</td>\n",
              "      <td>0</td>\n",
              "    </tr>\n",
              "    <tr>\n",
              "      <th>...</th>\n",
              "      <td>...</td>\n",
              "      <td>...</td>\n",
              "      <td>...</td>\n",
              "      <td>...</td>\n",
              "      <td>...</td>\n",
              "      <td>...</td>\n",
              "      <td>...</td>\n",
              "      <td>...</td>\n",
              "      <td>...</td>\n",
              "    </tr>\n",
              "    <tr>\n",
              "      <th>7608</th>\n",
              "      <td>7608</td>\n",
              "      <td>1</td>\n",
              "      <td>Two giant cranes holding a bridge collapse int...</td>\n",
              "      <td>2</td>\n",
              "      <td>5</td>\n",
              "      <td>0</td>\n",
              "      <td>0</td>\n",
              "      <td>0</td>\n",
              "      <td>1</td>\n",
              "    </tr>\n",
              "    <tr>\n",
              "      <th>7609</th>\n",
              "      <td>7609</td>\n",
              "      <td>1</td>\n",
              "      <td>@aria_ahrary @TheTawniest The out of control w...</td>\n",
              "      <td>7</td>\n",
              "      <td>5</td>\n",
              "      <td>0</td>\n",
              "      <td>0</td>\n",
              "      <td>2</td>\n",
              "      <td>0</td>\n",
              "    </tr>\n",
              "    <tr>\n",
              "      <th>7610</th>\n",
              "      <td>7610</td>\n",
              "      <td>1</td>\n",
              "      <td>M1.94 [01:04 UTC]?5km S of Volcano Hawaii. htt...</td>\n",
              "      <td>1</td>\n",
              "      <td>11</td>\n",
              "      <td>0</td>\n",
              "      <td>0</td>\n",
              "      <td>0</td>\n",
              "      <td>1</td>\n",
              "    </tr>\n",
              "    <tr>\n",
              "      <th>7611</th>\n",
              "      <td>7611</td>\n",
              "      <td>1</td>\n",
              "      <td>Police investigating after an e-bike collided ...</td>\n",
              "      <td>5</td>\n",
              "      <td>5</td>\n",
              "      <td>0</td>\n",
              "      <td>0</td>\n",
              "      <td>0</td>\n",
              "      <td>0</td>\n",
              "    </tr>\n",
              "    <tr>\n",
              "      <th>7612</th>\n",
              "      <td>7612</td>\n",
              "      <td>1</td>\n",
              "      <td>The Latest: More Homes Razed by Northern Calif...</td>\n",
              "      <td>1</td>\n",
              "      <td>7</td>\n",
              "      <td>0</td>\n",
              "      <td>0</td>\n",
              "      <td>0</td>\n",
              "      <td>1</td>\n",
              "    </tr>\n",
              "  </tbody>\n",
              "</table>\n",
              "<p>7613 rows × 9 columns</p>\n",
              "</div>"
            ],
            "text/plain": [
              "      index  target  ... mention  URL\n",
              "0         0       1  ...       0    0\n",
              "1         1       1  ...       0    0\n",
              "2         2       1  ...       0    0\n",
              "3         3       1  ...       0    0\n",
              "4         4       1  ...       0    0\n",
              "...     ...     ...  ...     ...  ...\n",
              "7608   7608       1  ...       0    1\n",
              "7609   7609       1  ...       2    0\n",
              "7610   7610       1  ...       0    1\n",
              "7611   7611       1  ...       0    0\n",
              "7612   7612       1  ...       0    1\n",
              "\n",
              "[7613 rows x 9 columns]"
            ]
          },
          "metadata": {},
          "execution_count": 20
        }
      ]
    },
    {
      "cell_type": "code",
      "metadata": {
        "colab": {
          "base_uri": "https://localhost:8080/",
          "height": 203
        },
        "id": "O3akjZGB3CGE",
        "outputId": "3d60656c-24eb-4cf8-b070-61dd798977cf"
      },
      "source": [
        "# Uppercase\n",
        "disastertweet['upper'] = disastertweet['text'].apply(lambda x: len([x for x in x.split() if x.isupper()]))\n",
        "disastertweet[['text','upper']].head()"
      ],
      "execution_count": 21,
      "outputs": [
        {
          "output_type": "execute_result",
          "data": {
            "text/html": [
              "<div>\n",
              "<style scoped>\n",
              "    .dataframe tbody tr th:only-of-type {\n",
              "        vertical-align: middle;\n",
              "    }\n",
              "\n",
              "    .dataframe tbody tr th {\n",
              "        vertical-align: top;\n",
              "    }\n",
              "\n",
              "    .dataframe thead th {\n",
              "        text-align: right;\n",
              "    }\n",
              "</style>\n",
              "<table border=\"1\" class=\"dataframe\">\n",
              "  <thead>\n",
              "    <tr style=\"text-align: right;\">\n",
              "      <th></th>\n",
              "      <th>text</th>\n",
              "      <th>upper</th>\n",
              "    </tr>\n",
              "  </thead>\n",
              "  <tbody>\n",
              "    <tr>\n",
              "      <th>0</th>\n",
              "      <td>Our Deeds are the Reason of this #earthquake M...</td>\n",
              "      <td>1</td>\n",
              "    </tr>\n",
              "    <tr>\n",
              "      <th>1</th>\n",
              "      <td>Forest fire near La Ronge Sask. Canada</td>\n",
              "      <td>0</td>\n",
              "    </tr>\n",
              "    <tr>\n",
              "      <th>2</th>\n",
              "      <td>All residents asked to 'shelter in place' are ...</td>\n",
              "      <td>0</td>\n",
              "    </tr>\n",
              "    <tr>\n",
              "      <th>3</th>\n",
              "      <td>13,000 people receive #wildfires evacuation or...</td>\n",
              "      <td>0</td>\n",
              "    </tr>\n",
              "    <tr>\n",
              "      <th>4</th>\n",
              "      <td>Just got sent this photo from Ruby #Alaska as ...</td>\n",
              "      <td>0</td>\n",
              "    </tr>\n",
              "  </tbody>\n",
              "</table>\n",
              "</div>"
            ],
            "text/plain": [
              "                                                text  upper\n",
              "0  Our Deeds are the Reason of this #earthquake M...      1\n",
              "1             Forest fire near La Ronge Sask. Canada      0\n",
              "2  All residents asked to 'shelter in place' are ...      0\n",
              "3  13,000 people receive #wildfires evacuation or...      0\n",
              "4  Just got sent this photo from Ruby #Alaska as ...      0"
            ]
          },
          "metadata": {},
          "execution_count": 21
        }
      ]
    },
    {
      "cell_type": "code",
      "metadata": {
        "colab": {
          "base_uri": "https://localhost:8080/"
        },
        "id": "YnlI7oO-3V3U",
        "outputId": "251513fb-c65e-494a-d9e5-434e322e47d3"
      },
      "source": [
        "# Make all Text LowerCase\n",
        "disastertweet['text'] = disastertweet['text'].apply(lambda x: \" \".join(x.lower() for x in x.split()))\n",
        "disastertweet['text'].head()"
      ],
      "execution_count": 22,
      "outputs": [
        {
          "output_type": "execute_result",
          "data": {
            "text/plain": [
              "0    our deeds are the reason of this #earthquake m...\n",
              "1               forest fire near la ronge sask. canada\n",
              "2    all residents asked to 'shelter in place' are ...\n",
              "3    13,000 people receive #wildfires evacuation or...\n",
              "4    just got sent this photo from ruby #alaska as ...\n",
              "Name: text, dtype: object"
            ]
          },
          "metadata": {},
          "execution_count": 22
        }
      ]
    },
    {
      "cell_type": "code",
      "metadata": {
        "colab": {
          "base_uri": "https://localhost:8080/",
          "height": 203
        },
        "id": "LPX4u9JVo2KQ",
        "outputId": "3ff21687-6266-48a2-debb-fa88f1c82640"
      },
      "source": [
        "disastertweet.tail()"
      ],
      "execution_count": 23,
      "outputs": [
        {
          "output_type": "execute_result",
          "data": {
            "text/html": [
              "<div>\n",
              "<style scoped>\n",
              "    .dataframe tbody tr th:only-of-type {\n",
              "        vertical-align: middle;\n",
              "    }\n",
              "\n",
              "    .dataframe tbody tr th {\n",
              "        vertical-align: top;\n",
              "    }\n",
              "\n",
              "    .dataframe thead th {\n",
              "        text-align: right;\n",
              "    }\n",
              "</style>\n",
              "<table border=\"1\" class=\"dataframe\">\n",
              "  <thead>\n",
              "    <tr style=\"text-align: right;\">\n",
              "      <th></th>\n",
              "      <th>index</th>\n",
              "      <th>target</th>\n",
              "      <th>text</th>\n",
              "      <th>stopwords</th>\n",
              "      <th>punctuation</th>\n",
              "      <th>hastags</th>\n",
              "      <th>numerics</th>\n",
              "      <th>mention</th>\n",
              "      <th>URL</th>\n",
              "      <th>upper</th>\n",
              "    </tr>\n",
              "  </thead>\n",
              "  <tbody>\n",
              "    <tr>\n",
              "      <th>7608</th>\n",
              "      <td>7608</td>\n",
              "      <td>1</td>\n",
              "      <td>two giant cranes holding a bridge collapse int...</td>\n",
              "      <td>2</td>\n",
              "      <td>5</td>\n",
              "      <td>0</td>\n",
              "      <td>0</td>\n",
              "      <td>0</td>\n",
              "      <td>1</td>\n",
              "      <td>0</td>\n",
              "    </tr>\n",
              "    <tr>\n",
              "      <th>7609</th>\n",
              "      <td>7609</td>\n",
              "      <td>1</td>\n",
              "      <td>@aria_ahrary @thetawniest the out of control w...</td>\n",
              "      <td>7</td>\n",
              "      <td>5</td>\n",
              "      <td>0</td>\n",
              "      <td>0</td>\n",
              "      <td>2</td>\n",
              "      <td>0</td>\n",
              "      <td>0</td>\n",
              "    </tr>\n",
              "    <tr>\n",
              "      <th>7610</th>\n",
              "      <td>7610</td>\n",
              "      <td>1</td>\n",
              "      <td>m1.94 [01:04 utc]?5km s of volcano hawaii. htt...</td>\n",
              "      <td>1</td>\n",
              "      <td>11</td>\n",
              "      <td>0</td>\n",
              "      <td>0</td>\n",
              "      <td>0</td>\n",
              "      <td>1</td>\n",
              "      <td>2</td>\n",
              "    </tr>\n",
              "    <tr>\n",
              "      <th>7611</th>\n",
              "      <td>7611</td>\n",
              "      <td>1</td>\n",
              "      <td>police investigating after an e-bike collided ...</td>\n",
              "      <td>5</td>\n",
              "      <td>5</td>\n",
              "      <td>0</td>\n",
              "      <td>0</td>\n",
              "      <td>0</td>\n",
              "      <td>0</td>\n",
              "      <td>0</td>\n",
              "    </tr>\n",
              "    <tr>\n",
              "      <th>7612</th>\n",
              "      <td>7612</td>\n",
              "      <td>1</td>\n",
              "      <td>the latest: more homes razed by northern calif...</td>\n",
              "      <td>1</td>\n",
              "      <td>7</td>\n",
              "      <td>0</td>\n",
              "      <td>0</td>\n",
              "      <td>0</td>\n",
              "      <td>1</td>\n",
              "      <td>1</td>\n",
              "    </tr>\n",
              "  </tbody>\n",
              "</table>\n",
              "</div>"
            ],
            "text/plain": [
              "      index  target  ... URL  upper\n",
              "7608   7608       1  ...   1      0\n",
              "7609   7609       1  ...   0      0\n",
              "7610   7610       1  ...   1      2\n",
              "7611   7611       1  ...   0      0\n",
              "7612   7612       1  ...   1      1\n",
              "\n",
              "[5 rows x 10 columns]"
            ]
          },
          "metadata": {},
          "execution_count": 23
        }
      ]
    },
    {
      "cell_type": "code",
      "metadata": {
        "id": "5-NMYLwquJBr"
      },
      "source": [
        "#Remove URL\n",
        "def remove_url(text):\n",
        "  text = re.sub(r'^https?:\\/\\/.*[\\r\\n]*', '', text, flags=re.MULTILINE)\n",
        "  return text\n",
        "nourl = lambda x: remove_url(x)"
      ],
      "execution_count": 24,
      "outputs": []
    },
    {
      "cell_type": "code",
      "metadata": {
        "colab": {
          "base_uri": "https://localhost:8080/"
        },
        "id": "-MuzdIS4rlpY",
        "outputId": "1eb65702-f0b7-406f-abcb-549635c298bb"
      },
      "source": [
        "disastertweet['text']=disastertweet['text'].apply(nourl)\n",
        "disastertweet['text']"
      ],
      "execution_count": 25,
      "outputs": [
        {
          "output_type": "execute_result",
          "data": {
            "text/plain": [
              "0       our deeds are the reason of this #earthquake m...\n",
              "1                  forest fire near la ronge sask. canada\n",
              "2       all residents asked to 'shelter in place' are ...\n",
              "3       13,000 people receive #wildfires evacuation or...\n",
              "4       just got sent this photo from ruby #alaska as ...\n",
              "                              ...                        \n",
              "7608    two giant cranes holding a bridge collapse int...\n",
              "7609    @aria_ahrary @thetawniest the out of control w...\n",
              "7610    m1.94 [01:04 utc]?5km s of volcano hawaii. htt...\n",
              "7611    police investigating after an e-bike collided ...\n",
              "7612    the latest: more homes razed by northern calif...\n",
              "Name: text, Length: 7613, dtype: object"
            ]
          },
          "metadata": {},
          "execution_count": 25
        }
      ]
    },
    {
      "cell_type": "code",
      "metadata": {
        "colab": {
          "base_uri": "https://localhost:8080/"
        },
        "id": "rRg6fwC7vSaN",
        "outputId": "5e8ba3b3-eaef-4c28-feb9-8dd7ea07e97b"
      },
      "source": [
        "disastertweet['text'].tail()"
      ],
      "execution_count": 26,
      "outputs": [
        {
          "output_type": "execute_result",
          "data": {
            "text/plain": [
              "7608    two giant cranes holding a bridge collapse int...\n",
              "7609    @aria_ahrary @thetawniest the out of control w...\n",
              "7610    m1.94 [01:04 utc]?5km s of volcano hawaii. htt...\n",
              "7611    police investigating after an e-bike collided ...\n",
              "7612    the latest: more homes razed by northern calif...\n",
              "Name: text, dtype: object"
            ]
          },
          "metadata": {},
          "execution_count": 26
        }
      ]
    },
    {
      "cell_type": "code",
      "metadata": {
        "id": "tuqAg3qQwXl0"
      },
      "source": [
        "#Remove Mentions\n",
        "def remove_mention(text):\n",
        "  text = re.sub(\"@[A-Za-z0-9_]+\",\"\", text)\n",
        "  return text\n",
        "nomention = lambda x: remove_mention(x)"
      ],
      "execution_count": 27,
      "outputs": []
    },
    {
      "cell_type": "code",
      "metadata": {
        "colab": {
          "base_uri": "https://localhost:8080/"
        },
        "id": "zWmYl260wo_r",
        "outputId": "25d8e8cc-02cf-41cb-8c69-16d7c99c01f8"
      },
      "source": [
        "disastertweet['text']=disastertweet['text'].apply(nomention)\n",
        "disastertweet['text']"
      ],
      "execution_count": 28,
      "outputs": [
        {
          "output_type": "execute_result",
          "data": {
            "text/plain": [
              "0       our deeds are the reason of this #earthquake m...\n",
              "1                  forest fire near la ronge sask. canada\n",
              "2       all residents asked to 'shelter in place' are ...\n",
              "3       13,000 people receive #wildfires evacuation or...\n",
              "4       just got sent this photo from ruby #alaska as ...\n",
              "                              ...                        \n",
              "7608    two giant cranes holding a bridge collapse int...\n",
              "7609      the out of control wild fires in california ...\n",
              "7610    m1.94 [01:04 utc]?5km s of volcano hawaii. htt...\n",
              "7611    police investigating after an e-bike collided ...\n",
              "7612    the latest: more homes razed by northern calif...\n",
              "Name: text, Length: 7613, dtype: object"
            ]
          },
          "metadata": {},
          "execution_count": 28
        }
      ]
    },
    {
      "cell_type": "code",
      "metadata": {
        "id": "KMZvwQDKxwNN"
      },
      "source": [
        "def remove_hashtag(text):\n",
        "  text = re.sub(\"#[A-Za-z0-9_]+\",\"\", text)\n",
        "  return text\n",
        "nohash = lambda x: remove_hashtag(x)"
      ],
      "execution_count": 29,
      "outputs": []
    },
    {
      "cell_type": "code",
      "metadata": {
        "colab": {
          "base_uri": "https://localhost:8080/"
        },
        "id": "oF0aH-rUx6OG",
        "outputId": "19c5526e-bf2b-42d3-e4f5-b2e90d153322"
      },
      "source": [
        "disastertweet['text']=disastertweet['text'].apply(nohash)\n",
        "disastertweet['text']"
      ],
      "execution_count": 30,
      "outputs": [
        {
          "output_type": "execute_result",
          "data": {
            "text/plain": [
              "0       our deeds are the reason of this  may allah fo...\n",
              "1                  forest fire near la ronge sask. canada\n",
              "2       all residents asked to 'shelter in place' are ...\n",
              "3       13,000 people receive  evacuation orders in ca...\n",
              "4       just got sent this photo from ruby  as smoke f...\n",
              "                              ...                        \n",
              "7608    two giant cranes holding a bridge collapse int...\n",
              "7609      the out of control wild fires in california ...\n",
              "7610    m1.94 [01:04 utc]?5km s of volcano hawaii. htt...\n",
              "7611    police investigating after an e-bike collided ...\n",
              "7612    the latest: more homes razed by northern calif...\n",
              "Name: text, Length: 7613, dtype: object"
            ]
          },
          "metadata": {},
          "execution_count": 30
        }
      ]
    },
    {
      "cell_type": "code",
      "metadata": {
        "colab": {
          "base_uri": "https://localhost:8080/",
          "height": 417
        },
        "id": "CuiqVEquxS6z",
        "outputId": "8008fca8-137f-49bd-cc9b-47bafc111df9"
      },
      "source": [
        "disastertweet"
      ],
      "execution_count": 31,
      "outputs": [
        {
          "output_type": "execute_result",
          "data": {
            "text/html": [
              "<div>\n",
              "<style scoped>\n",
              "    .dataframe tbody tr th:only-of-type {\n",
              "        vertical-align: middle;\n",
              "    }\n",
              "\n",
              "    .dataframe tbody tr th {\n",
              "        vertical-align: top;\n",
              "    }\n",
              "\n",
              "    .dataframe thead th {\n",
              "        text-align: right;\n",
              "    }\n",
              "</style>\n",
              "<table border=\"1\" class=\"dataframe\">\n",
              "  <thead>\n",
              "    <tr style=\"text-align: right;\">\n",
              "      <th></th>\n",
              "      <th>index</th>\n",
              "      <th>target</th>\n",
              "      <th>text</th>\n",
              "      <th>stopwords</th>\n",
              "      <th>punctuation</th>\n",
              "      <th>hastags</th>\n",
              "      <th>numerics</th>\n",
              "      <th>mention</th>\n",
              "      <th>URL</th>\n",
              "      <th>upper</th>\n",
              "    </tr>\n",
              "  </thead>\n",
              "  <tbody>\n",
              "    <tr>\n",
              "      <th>0</th>\n",
              "      <td>0</td>\n",
              "      <td>1</td>\n",
              "      <td>our deeds are the reason of this  may allah fo...</td>\n",
              "      <td>5</td>\n",
              "      <td>1</td>\n",
              "      <td>1</td>\n",
              "      <td>0</td>\n",
              "      <td>0</td>\n",
              "      <td>0</td>\n",
              "      <td>1</td>\n",
              "    </tr>\n",
              "    <tr>\n",
              "      <th>1</th>\n",
              "      <td>1</td>\n",
              "      <td>1</td>\n",
              "      <td>forest fire near la ronge sask. canada</td>\n",
              "      <td>0</td>\n",
              "      <td>1</td>\n",
              "      <td>0</td>\n",
              "      <td>0</td>\n",
              "      <td>0</td>\n",
              "      <td>0</td>\n",
              "      <td>0</td>\n",
              "    </tr>\n",
              "    <tr>\n",
              "      <th>2</th>\n",
              "      <td>2</td>\n",
              "      <td>1</td>\n",
              "      <td>all residents asked to 'shelter in place' are ...</td>\n",
              "      <td>9</td>\n",
              "      <td>3</td>\n",
              "      <td>0</td>\n",
              "      <td>0</td>\n",
              "      <td>0</td>\n",
              "      <td>0</td>\n",
              "      <td>0</td>\n",
              "    </tr>\n",
              "    <tr>\n",
              "      <th>3</th>\n",
              "      <td>3</td>\n",
              "      <td>1</td>\n",
              "      <td>13,000 people receive  evacuation orders in ca...</td>\n",
              "      <td>1</td>\n",
              "      <td>2</td>\n",
              "      <td>1</td>\n",
              "      <td>0</td>\n",
              "      <td>0</td>\n",
              "      <td>0</td>\n",
              "      <td>0</td>\n",
              "    </tr>\n",
              "    <tr>\n",
              "      <th>4</th>\n",
              "      <td>4</td>\n",
              "      <td>1</td>\n",
              "      <td>just got sent this photo from ruby  as smoke f...</td>\n",
              "      <td>6</td>\n",
              "      <td>2</td>\n",
              "      <td>2</td>\n",
              "      <td>0</td>\n",
              "      <td>0</td>\n",
              "      <td>0</td>\n",
              "      <td>0</td>\n",
              "    </tr>\n",
              "    <tr>\n",
              "      <th>...</th>\n",
              "      <td>...</td>\n",
              "      <td>...</td>\n",
              "      <td>...</td>\n",
              "      <td>...</td>\n",
              "      <td>...</td>\n",
              "      <td>...</td>\n",
              "      <td>...</td>\n",
              "      <td>...</td>\n",
              "      <td>...</td>\n",
              "      <td>...</td>\n",
              "    </tr>\n",
              "    <tr>\n",
              "      <th>7608</th>\n",
              "      <td>7608</td>\n",
              "      <td>1</td>\n",
              "      <td>two giant cranes holding a bridge collapse int...</td>\n",
              "      <td>2</td>\n",
              "      <td>5</td>\n",
              "      <td>0</td>\n",
              "      <td>0</td>\n",
              "      <td>0</td>\n",
              "      <td>1</td>\n",
              "      <td>0</td>\n",
              "    </tr>\n",
              "    <tr>\n",
              "      <th>7609</th>\n",
              "      <td>7609</td>\n",
              "      <td>1</td>\n",
              "      <td>the out of control wild fires in california ...</td>\n",
              "      <td>7</td>\n",
              "      <td>5</td>\n",
              "      <td>0</td>\n",
              "      <td>0</td>\n",
              "      <td>2</td>\n",
              "      <td>0</td>\n",
              "      <td>0</td>\n",
              "    </tr>\n",
              "    <tr>\n",
              "      <th>7610</th>\n",
              "      <td>7610</td>\n",
              "      <td>1</td>\n",
              "      <td>m1.94 [01:04 utc]?5km s of volcano hawaii. htt...</td>\n",
              "      <td>1</td>\n",
              "      <td>11</td>\n",
              "      <td>0</td>\n",
              "      <td>0</td>\n",
              "      <td>0</td>\n",
              "      <td>1</td>\n",
              "      <td>2</td>\n",
              "    </tr>\n",
              "    <tr>\n",
              "      <th>7611</th>\n",
              "      <td>7611</td>\n",
              "      <td>1</td>\n",
              "      <td>police investigating after an e-bike collided ...</td>\n",
              "      <td>5</td>\n",
              "      <td>5</td>\n",
              "      <td>0</td>\n",
              "      <td>0</td>\n",
              "      <td>0</td>\n",
              "      <td>0</td>\n",
              "      <td>0</td>\n",
              "    </tr>\n",
              "    <tr>\n",
              "      <th>7612</th>\n",
              "      <td>7612</td>\n",
              "      <td>1</td>\n",
              "      <td>the latest: more homes razed by northern calif...</td>\n",
              "      <td>1</td>\n",
              "      <td>7</td>\n",
              "      <td>0</td>\n",
              "      <td>0</td>\n",
              "      <td>0</td>\n",
              "      <td>1</td>\n",
              "      <td>1</td>\n",
              "    </tr>\n",
              "  </tbody>\n",
              "</table>\n",
              "<p>7613 rows × 10 columns</p>\n",
              "</div>"
            ],
            "text/plain": [
              "      index  target  ... URL  upper\n",
              "0         0       1  ...   0      1\n",
              "1         1       1  ...   0      0\n",
              "2         2       1  ...   0      0\n",
              "3         3       1  ...   0      0\n",
              "4         4       1  ...   0      0\n",
              "...     ...     ...  ...  ..    ...\n",
              "7608   7608       1  ...   1      0\n",
              "7609   7609       1  ...   0      0\n",
              "7610   7610       1  ...   1      2\n",
              "7611   7611       1  ...   0      0\n",
              "7612   7612       1  ...   1      1\n",
              "\n",
              "[7613 rows x 10 columns]"
            ]
          },
          "metadata": {},
          "execution_count": 31
        }
      ]
    },
    {
      "cell_type": "code",
      "metadata": {
        "colab": {
          "base_uri": "https://localhost:8080/"
        },
        "id": "wH7sdxiT3gLd",
        "outputId": "8a7c3c63-cb98-463f-da8d-aff528cff54e"
      },
      "source": [
        "# Remove Punctuation\n",
        "disastertweet['text'] = disastertweet['text'].str.replace('[^\\w\\s]','')\n",
        "disastertweet['text'].head()"
      ],
      "execution_count": 32,
      "outputs": [
        {
          "output_type": "execute_result",
          "data": {
            "text/plain": [
              "0    our deeds are the reason of this  may allah fo...\n",
              "1                forest fire near la ronge sask canada\n",
              "2    all residents asked to shelter in place are be...\n",
              "3    13000 people receive  evacuation orders in cal...\n",
              "4    just got sent this photo from ruby  as smoke f...\n",
              "Name: text, dtype: object"
            ]
          },
          "metadata": {},
          "execution_count": 32
        }
      ]
    },
    {
      "cell_type": "code",
      "metadata": {
        "colab": {
          "base_uri": "https://localhost:8080/"
        },
        "id": "BqlE4PNn3pLU",
        "outputId": "e1f41d28-238b-42ee-c3a9-7b2f35ace4fc"
      },
      "source": [
        "# Remove Stopwords\n",
        "from nltk.corpus import stopwords\n",
        "stop = stopwords.words('english')\n",
        "\n",
        "disastertweet['text'] = disastertweet['text'].apply(lambda x: \" \".join(x for x in x.split() if x not in stop))\n",
        "disastertweet['text'].sample(10)"
      ],
      "execution_count": 33,
      "outputs": [
        {
          "output_type": "execute_result",
          "data": {
            "text/plain": [
              "3642    govt allocating 13 bn flood action issue takes...\n",
              "3497    super freestyle explosion live concert amalie ...\n",
              "380     two jewish terrorists charged historicchurch a...\n",
              "748                            go look blew w atomic bomb\n",
              "3046    usgs reports m194 5km volcano hawaii 8615 1040...\n",
              "6748    73rd goode water ski national championships go...\n",
              "2562    get 50 eur free bet bwin use sports markets ht...\n",
              "76            accident knew gon happen httpstcoysxun5vceh\n",
              "5758    meatloving feminists world riot grill arrived ...\n",
              "806     put taint magisters open gates let blight get ...\n",
              "Name: text, dtype: object"
            ]
          },
          "metadata": {},
          "execution_count": 33
        }
      ]
    },
    {
      "cell_type": "code",
      "metadata": {
        "id": "y7Rl-9gT4ZyE"
      },
      "source": [
        "def clean_text_round1(text):\n",
        "    '''Make text lowercase, remove text in square brackets, remove punctuation and remove words containing numbers.'''\n",
        "    text = text.lower()\n",
        "    text = re.sub('\\[.*?\\]', '', text)\n",
        "    text = re.sub('[%s]' % re.escape(string.punctuation), '', text)\n",
        "    text = re.sub('\\w*\\d\\w*', '', text)\n",
        "    return text\n",
        "\n",
        "round1 = lambda x: clean_text_round1(x)"
      ],
      "execution_count": 34,
      "outputs": []
    },
    {
      "cell_type": "code",
      "metadata": {
        "colab": {
          "base_uri": "https://localhost:8080/"
        },
        "id": "Ls9m0pxcycH-",
        "outputId": "ec9ede6a-1640-4d68-d3f7-1e9c6e91efcb"
      },
      "source": [
        "disastertweet['text']=disastertweet['text'].apply(round1)\n",
        "disastertweet['text']"
      ],
      "execution_count": 35,
      "outputs": [
        {
          "output_type": "execute_result",
          "data": {
            "text/plain": [
              "0                       deeds reason may allah forgive us\n",
              "1                   forest fire near la ronge sask canada\n",
              "2       residents asked shelter place notified officer...\n",
              "3             people receive evacuation orders california\n",
              "4                  got sent photo ruby smoke pours school\n",
              "                              ...                        \n",
              "7608    two giant cranes holding bridge collapse nearb...\n",
              "7609    control wild fires california even northern pa...\n",
              "7610                                      volcano hawaii \n",
              "7611    police investigating ebike collided car little...\n",
              "7612    latest homes razed northern california wildfir...\n",
              "Name: text, Length: 7613, dtype: object"
            ]
          },
          "metadata": {},
          "execution_count": 35
        }
      ]
    },
    {
      "cell_type": "code",
      "metadata": {
        "id": "W4PLWO5VyqUu"
      },
      "source": [
        "def clean_text_round2(text):\n",
        "    '''Get rid of some additional punctuation and non-sensical text that was missed the first time around.'''\n",
        "    text = re.sub('[‘’“”…]', '', text)\n",
        "    text = re.sub('\\n', '', text)\n",
        "    return text\n",
        "\n",
        "round2 = lambda x: clean_text_round2(x)"
      ],
      "execution_count": 36,
      "outputs": []
    },
    {
      "cell_type": "code",
      "metadata": {
        "colab": {
          "base_uri": "https://localhost:8080/"
        },
        "id": "X8WkmuA1ywZi",
        "outputId": "1ed535ca-0aa5-497d-e5f2-da3c0ff4fee3"
      },
      "source": [
        "disastertweet['text']=disastertweet['text'].apply(round2)\n",
        "disastertweet['text']"
      ],
      "execution_count": 37,
      "outputs": [
        {
          "output_type": "execute_result",
          "data": {
            "text/plain": [
              "0                       deeds reason may allah forgive us\n",
              "1                   forest fire near la ronge sask canada\n",
              "2       residents asked shelter place notified officer...\n",
              "3             people receive evacuation orders california\n",
              "4                  got sent photo ruby smoke pours school\n",
              "                              ...                        \n",
              "7608    two giant cranes holding bridge collapse nearb...\n",
              "7609    control wild fires california even northern pa...\n",
              "7610                                      volcano hawaii \n",
              "7611    police investigating ebike collided car little...\n",
              "7612    latest homes razed northern california wildfir...\n",
              "Name: text, Length: 7613, dtype: object"
            ]
          },
          "metadata": {},
          "execution_count": 37
        }
      ]
    },
    {
      "cell_type": "code",
      "metadata": {
        "colab": {
          "base_uri": "https://localhost:8080/",
          "height": 203
        },
        "id": "9IWE4IWuyzxi",
        "outputId": "2f30f6a5-8ec8-4407-e5ee-38bb61302ef7"
      },
      "source": [
        "# Number of Character\n",
        "disastertweet['char_count'] = disastertweet['text'].str.len()\n",
        "disastertweet[['text','char_count']].head()"
      ],
      "execution_count": 38,
      "outputs": [
        {
          "output_type": "execute_result",
          "data": {
            "text/html": [
              "<div>\n",
              "<style scoped>\n",
              "    .dataframe tbody tr th:only-of-type {\n",
              "        vertical-align: middle;\n",
              "    }\n",
              "\n",
              "    .dataframe tbody tr th {\n",
              "        vertical-align: top;\n",
              "    }\n",
              "\n",
              "    .dataframe thead th {\n",
              "        text-align: right;\n",
              "    }\n",
              "</style>\n",
              "<table border=\"1\" class=\"dataframe\">\n",
              "  <thead>\n",
              "    <tr style=\"text-align: right;\">\n",
              "      <th></th>\n",
              "      <th>text</th>\n",
              "      <th>char_count</th>\n",
              "    </tr>\n",
              "  </thead>\n",
              "  <tbody>\n",
              "    <tr>\n",
              "      <th>0</th>\n",
              "      <td>deeds reason may allah forgive us</td>\n",
              "      <td>33</td>\n",
              "    </tr>\n",
              "    <tr>\n",
              "      <th>1</th>\n",
              "      <td>forest fire near la ronge sask canada</td>\n",
              "      <td>37</td>\n",
              "    </tr>\n",
              "    <tr>\n",
              "      <th>2</th>\n",
              "      <td>residents asked shelter place notified officer...</td>\n",
              "      <td>88</td>\n",
              "    </tr>\n",
              "    <tr>\n",
              "      <th>3</th>\n",
              "      <td>people receive evacuation orders california</td>\n",
              "      <td>44</td>\n",
              "    </tr>\n",
              "    <tr>\n",
              "      <th>4</th>\n",
              "      <td>got sent photo ruby smoke pours school</td>\n",
              "      <td>38</td>\n",
              "    </tr>\n",
              "  </tbody>\n",
              "</table>\n",
              "</div>"
            ],
            "text/plain": [
              "                                                text  char_count\n",
              "0                  deeds reason may allah forgive us          33\n",
              "1              forest fire near la ronge sask canada          37\n",
              "2  residents asked shelter place notified officer...          88\n",
              "3        people receive evacuation orders california          44\n",
              "4             got sent photo ruby smoke pours school          38"
            ]
          },
          "metadata": {},
          "execution_count": 38
        }
      ]
    },
    {
      "cell_type": "code",
      "metadata": {
        "id": "EPFnNHGgzBdM"
      },
      "source": [
        "# Average Words\n",
        "def avg_word(sentence):\n",
        "  words = sentence.split()\n",
        "  return (sum(len(word) for word in words)/(len(words)+0.000001))"
      ],
      "execution_count": 39,
      "outputs": []
    },
    {
      "cell_type": "code",
      "metadata": {
        "colab": {
          "base_uri": "https://localhost:8080/",
          "height": 203
        },
        "id": "Eg4sFyzHzHx0",
        "outputId": "4d15ed0d-7c5e-44e8-b277-02718bc5b3ec"
      },
      "source": [
        "disastertweet['avg_word'] = disastertweet['text'].apply(lambda x: avg_word(x)).round(1)\n",
        "disastertweet[['text','avg_word']].head()"
      ],
      "execution_count": 40,
      "outputs": [
        {
          "output_type": "execute_result",
          "data": {
            "text/html": [
              "<div>\n",
              "<style scoped>\n",
              "    .dataframe tbody tr th:only-of-type {\n",
              "        vertical-align: middle;\n",
              "    }\n",
              "\n",
              "    .dataframe tbody tr th {\n",
              "        vertical-align: top;\n",
              "    }\n",
              "\n",
              "    .dataframe thead th {\n",
              "        text-align: right;\n",
              "    }\n",
              "</style>\n",
              "<table border=\"1\" class=\"dataframe\">\n",
              "  <thead>\n",
              "    <tr style=\"text-align: right;\">\n",
              "      <th></th>\n",
              "      <th>text</th>\n",
              "      <th>avg_word</th>\n",
              "    </tr>\n",
              "  </thead>\n",
              "  <tbody>\n",
              "    <tr>\n",
              "      <th>0</th>\n",
              "      <td>deeds reason may allah forgive us</td>\n",
              "      <td>4.7</td>\n",
              "    </tr>\n",
              "    <tr>\n",
              "      <th>1</th>\n",
              "      <td>forest fire near la ronge sask canada</td>\n",
              "      <td>4.4</td>\n",
              "    </tr>\n",
              "    <tr>\n",
              "      <th>2</th>\n",
              "      <td>residents asked shelter place notified officer...</td>\n",
              "      <td>7.1</td>\n",
              "    </tr>\n",
              "    <tr>\n",
              "      <th>3</th>\n",
              "      <td>people receive evacuation orders california</td>\n",
              "      <td>7.8</td>\n",
              "    </tr>\n",
              "    <tr>\n",
              "      <th>4</th>\n",
              "      <td>got sent photo ruby smoke pours school</td>\n",
              "      <td>4.6</td>\n",
              "    </tr>\n",
              "  </tbody>\n",
              "</table>\n",
              "</div>"
            ],
            "text/plain": [
              "                                                text  avg_word\n",
              "0                  deeds reason may allah forgive us       4.7\n",
              "1              forest fire near la ronge sask canada       4.4\n",
              "2  residents asked shelter place notified officer...       7.1\n",
              "3        people receive evacuation orders california       7.8\n",
              "4             got sent photo ruby smoke pours school       4.6"
            ]
          },
          "metadata": {},
          "execution_count": 40
        }
      ]
    },
    {
      "cell_type": "code",
      "metadata": {
        "id": "WG5pjaayzVnG"
      },
      "source": [
        "# Write to CSV\n",
        "disastertweet.to_csv('Disaster_tweet_processed.csv', index=False)"
      ],
      "execution_count": 41,
      "outputs": []
    },
    {
      "cell_type": "markdown",
      "metadata": {
        "id": "MPLFVlPg0Vr7"
      },
      "source": [
        "## Define Model"
      ]
    },
    {
      "cell_type": "code",
      "metadata": {
        "id": "POhoDyyY0bB2"
      },
      "source": [
        "tweet = pd.read_csv('Disaster_tweet_processed.csv')"
      ],
      "execution_count": 42,
      "outputs": []
    },
    {
      "cell_type": "code",
      "metadata": {
        "colab": {
          "base_uri": "https://localhost:8080/"
        },
        "id": "loB-yCZt0vAK",
        "outputId": "b5c6f5e5-9825-48a1-9cb7-32d5556ede94"
      },
      "source": [
        "tweet.isnull().sum()"
      ],
      "execution_count": 43,
      "outputs": [
        {
          "output_type": "execute_result",
          "data": {
            "text/plain": [
              "index           0\n",
              "target          0\n",
              "text           58\n",
              "stopwords       0\n",
              "punctuation     0\n",
              "hastags         0\n",
              "numerics        0\n",
              "mention         0\n",
              "URL             0\n",
              "upper           0\n",
              "char_count      0\n",
              "avg_word        0\n",
              "dtype: int64"
            ]
          },
          "metadata": {},
          "execution_count": 43
        }
      ]
    },
    {
      "cell_type": "code",
      "metadata": {
        "id": "K-qyALIo01Cj"
      },
      "source": [
        "tweet.dropna(subset=['text'], inplace=True)"
      ],
      "execution_count": 44,
      "outputs": []
    },
    {
      "cell_type": "code",
      "metadata": {
        "colab": {
          "base_uri": "https://localhost:8080/"
        },
        "id": "lqxYxhzu07XF",
        "outputId": "fac53ac3-022c-4253-9e52-94e2528d07c7"
      },
      "source": [
        "X = tweet.text\n",
        "y = tweet.target\n",
        "print(X.shape, y.shape)"
      ],
      "execution_count": 45,
      "outputs": [
        {
          "output_type": "stream",
          "name": "stdout",
          "text": [
            "(7555,) (7555,)\n"
          ]
        }
      ]
    },
    {
      "cell_type": "code",
      "metadata": {
        "colab": {
          "base_uri": "https://localhost:8080/"
        },
        "id": "zudjyfPX2KyI",
        "outputId": "c1a92009-15cb-4a3e-bcea-c4fb52adb6ee"
      },
      "source": [
        "X_train, X_test, y_train, y_test = train_test_split(X, y, test_size=0.20, random_state=42)\n",
        "print ('Train Set Shape\\t\\t:{}\\nTest Set Shape\\t\\t:{}'.format(X_train.shape, X_test.shape))"
      ],
      "execution_count": 46,
      "outputs": [
        {
          "output_type": "stream",
          "name": "stdout",
          "text": [
            "Train Set Shape\t\t:(6044,)\n",
            "Test Set Shape\t\t:(1511,)\n"
          ]
        }
      ]
    },
    {
      "cell_type": "markdown",
      "metadata": {
        "id": "-wnNL7ur29iP"
      },
      "source": [
        "## CountVectorizer Bag of Word"
      ]
    },
    {
      "cell_type": "code",
      "metadata": {
        "id": "26y2o5fj2PKd"
      },
      "source": [
        "# Create the word vector with CountVectorizer\n",
        "\n",
        "count_vect = CountVectorizer(ngram_range=(1,1))\n",
        "count_vect_train = count_vect.fit_transform(X_train)\n",
        "count_vect_train = count_vect_train.toarray()\n",
        "count_vect_test = count_vect.transform(X_test)\n",
        "count_vect_test = count_vect_test.toarray()"
      ],
      "execution_count": 47,
      "outputs": []
    },
    {
      "cell_type": "code",
      "metadata": {
        "colab": {
          "base_uri": "https://localhost:8080/"
        },
        "id": "lRWGnqN13EVH",
        "outputId": "d0d3ed2e-63bb-4cd5-a070-7b5b2230de55"
      },
      "source": [
        "# Print vocabulary length\n",
        "print('Vocabulary length :', len(count_vect.get_feature_names()))"
      ],
      "execution_count": 48,
      "outputs": [
        {
          "output_type": "stream",
          "name": "stdout",
          "text": [
            "Vocabulary length : 12484\n"
          ]
        }
      ]
    },
    {
      "cell_type": "code",
      "metadata": {
        "id": "JiSORxVv3HwE"
      },
      "source": [
        "# Assign feature names of vector into a variable\n",
        "vocab = count_vect.get_feature_names()"
      ],
      "execution_count": 49,
      "outputs": []
    },
    {
      "cell_type": "code",
      "metadata": {
        "colab": {
          "base_uri": "https://localhost:8080/",
          "height": 252
        },
        "id": "2QEFWK-s3KpB",
        "outputId": "38268b4e-9f13-4728-9238-5d7c19707b99"
      },
      "source": [
        "# Dataframe for train countvectorizer dataset\n",
        "pd.DataFrame(count_vect_train, columns = vocab).head()"
      ],
      "execution_count": 50,
      "outputs": [
        {
          "output_type": "execute_result",
          "data": {
            "text/html": [
              "<div>\n",
              "<style scoped>\n",
              "    .dataframe tbody tr th:only-of-type {\n",
              "        vertical-align: middle;\n",
              "    }\n",
              "\n",
              "    .dataframe tbody tr th {\n",
              "        vertical-align: top;\n",
              "    }\n",
              "\n",
              "    .dataframe thead th {\n",
              "        text-align: right;\n",
              "    }\n",
              "</style>\n",
              "<table border=\"1\" class=\"dataframe\">\n",
              "  <thead>\n",
              "    <tr style=\"text-align: right;\">\n",
              "      <th></th>\n",
              "      <th>aa</th>\n",
              "      <th>aaaa</th>\n",
              "      <th>aaaaaaallll</th>\n",
              "      <th>aaaaaand</th>\n",
              "      <th>aaarrrgghhh</th>\n",
              "      <th>aampb</th>\n",
              "      <th>aampw</th>\n",
              "      <th>aan</th>\n",
              "      <th>aannnnd</th>\n",
              "      <th>aar</th>\n",
              "      <th>aashiqui</th>\n",
              "      <th>aba</th>\n",
              "      <th>abandon</th>\n",
              "      <th>abandoned</th>\n",
              "      <th>abandoning</th>\n",
              "      <th>abbandoned</th>\n",
              "      <th>abbott</th>\n",
              "      <th>abbswinston</th>\n",
              "      <th>abc</th>\n",
              "      <th>abcnews</th>\n",
              "      <th>abcs</th>\n",
              "      <th>abe</th>\n",
              "      <th>aberdeen</th>\n",
              "      <th>aberystwythshrewsbury</th>\n",
              "      <th>abes</th>\n",
              "      <th>abia</th>\n",
              "      <th>ability</th>\n",
              "      <th>abject</th>\n",
              "      <th>ablaze</th>\n",
              "      <th>able</th>\n",
              "      <th>aboard</th>\n",
              "      <th>abomb</th>\n",
              "      <th>abombed</th>\n",
              "      <th>abomination</th>\n",
              "      <th>abortion</th>\n",
              "      <th>abortions</th>\n",
              "      <th>abouts</th>\n",
              "      <th>abs</th>\n",
              "      <th>absence</th>\n",
              "      <th>absolute</th>\n",
              "      <th>...</th>\n",
              "      <th>ûnotherû</th>\n",
              "      <th>ûplot</th>\n",
              "      <th>ûpolitics</th>\n",
              "      <th>ûransomwareûª</th>\n",
              "      <th>ûvulnerableûª</th>\n",
              "      <th>ûªs</th>\n",
              "      <th>ûåêdemolition</th>\n",
              "      <th>ûï</th>\n",
              "      <th>ûïa</th>\n",
              "      <th>ûïafter</th>\n",
              "      <th>ûïairplaneû</th>\n",
              "      <th>ûïall</th>\n",
              "      <th>ûïcat</th>\n",
              "      <th>ûïdetonateû</th>\n",
              "      <th>ûïfor</th>\n",
              "      <th>ûïhatchet</th>\n",
              "      <th>ûïi</th>\n",
              "      <th>ûïlittle</th>\n",
              "      <th>ûïlove</th>\n",
              "      <th>ûïmake</th>\n",
              "      <th>ûïnewsû</th>\n",
              "      <th>ûïnobody</th>\n",
              "      <th>ûïnumbers</th>\n",
              "      <th>ûïparties</th>\n",
              "      <th>ûïplans</th>\n",
              "      <th>ûïrichmond</th>\n",
              "      <th>ûïsippinûª</th>\n",
              "      <th>ûïstretcher</th>\n",
              "      <th>ûïthe</th>\n",
              "      <th>ûïwe</th>\n",
              "      <th>ûïwhen</th>\n",
              "      <th>ûïyou</th>\n",
              "      <th>ûïû</th>\n",
              "      <th>ûò</th>\n",
              "      <th>ûòthe</th>\n",
              "      <th>ûòåêcnbc</th>\n",
              "      <th>ûó</th>\n",
              "      <th>ûóher</th>\n",
              "      <th>ûókody</th>\n",
              "      <th>ûûif</th>\n",
              "    </tr>\n",
              "  </thead>\n",
              "  <tbody>\n",
              "    <tr>\n",
              "      <th>0</th>\n",
              "      <td>0</td>\n",
              "      <td>0</td>\n",
              "      <td>0</td>\n",
              "      <td>0</td>\n",
              "      <td>0</td>\n",
              "      <td>0</td>\n",
              "      <td>0</td>\n",
              "      <td>0</td>\n",
              "      <td>0</td>\n",
              "      <td>0</td>\n",
              "      <td>0</td>\n",
              "      <td>0</td>\n",
              "      <td>0</td>\n",
              "      <td>0</td>\n",
              "      <td>0</td>\n",
              "      <td>0</td>\n",
              "      <td>0</td>\n",
              "      <td>0</td>\n",
              "      <td>0</td>\n",
              "      <td>0</td>\n",
              "      <td>0</td>\n",
              "      <td>0</td>\n",
              "      <td>0</td>\n",
              "      <td>0</td>\n",
              "      <td>0</td>\n",
              "      <td>0</td>\n",
              "      <td>0</td>\n",
              "      <td>0</td>\n",
              "      <td>0</td>\n",
              "      <td>0</td>\n",
              "      <td>0</td>\n",
              "      <td>0</td>\n",
              "      <td>0</td>\n",
              "      <td>0</td>\n",
              "      <td>0</td>\n",
              "      <td>0</td>\n",
              "      <td>0</td>\n",
              "      <td>0</td>\n",
              "      <td>0</td>\n",
              "      <td>0</td>\n",
              "      <td>...</td>\n",
              "      <td>0</td>\n",
              "      <td>0</td>\n",
              "      <td>0</td>\n",
              "      <td>0</td>\n",
              "      <td>0</td>\n",
              "      <td>0</td>\n",
              "      <td>0</td>\n",
              "      <td>0</td>\n",
              "      <td>0</td>\n",
              "      <td>0</td>\n",
              "      <td>0</td>\n",
              "      <td>0</td>\n",
              "      <td>0</td>\n",
              "      <td>0</td>\n",
              "      <td>0</td>\n",
              "      <td>0</td>\n",
              "      <td>0</td>\n",
              "      <td>0</td>\n",
              "      <td>0</td>\n",
              "      <td>0</td>\n",
              "      <td>0</td>\n",
              "      <td>0</td>\n",
              "      <td>0</td>\n",
              "      <td>0</td>\n",
              "      <td>0</td>\n",
              "      <td>0</td>\n",
              "      <td>0</td>\n",
              "      <td>0</td>\n",
              "      <td>0</td>\n",
              "      <td>0</td>\n",
              "      <td>0</td>\n",
              "      <td>0</td>\n",
              "      <td>0</td>\n",
              "      <td>0</td>\n",
              "      <td>0</td>\n",
              "      <td>0</td>\n",
              "      <td>0</td>\n",
              "      <td>0</td>\n",
              "      <td>0</td>\n",
              "      <td>0</td>\n",
              "    </tr>\n",
              "    <tr>\n",
              "      <th>1</th>\n",
              "      <td>0</td>\n",
              "      <td>0</td>\n",
              "      <td>0</td>\n",
              "      <td>0</td>\n",
              "      <td>0</td>\n",
              "      <td>0</td>\n",
              "      <td>0</td>\n",
              "      <td>0</td>\n",
              "      <td>0</td>\n",
              "      <td>0</td>\n",
              "      <td>0</td>\n",
              "      <td>0</td>\n",
              "      <td>0</td>\n",
              "      <td>0</td>\n",
              "      <td>0</td>\n",
              "      <td>0</td>\n",
              "      <td>0</td>\n",
              "      <td>0</td>\n",
              "      <td>0</td>\n",
              "      <td>0</td>\n",
              "      <td>0</td>\n",
              "      <td>0</td>\n",
              "      <td>0</td>\n",
              "      <td>0</td>\n",
              "      <td>0</td>\n",
              "      <td>0</td>\n",
              "      <td>0</td>\n",
              "      <td>0</td>\n",
              "      <td>0</td>\n",
              "      <td>0</td>\n",
              "      <td>0</td>\n",
              "      <td>0</td>\n",
              "      <td>0</td>\n",
              "      <td>0</td>\n",
              "      <td>0</td>\n",
              "      <td>0</td>\n",
              "      <td>0</td>\n",
              "      <td>0</td>\n",
              "      <td>0</td>\n",
              "      <td>0</td>\n",
              "      <td>...</td>\n",
              "      <td>0</td>\n",
              "      <td>0</td>\n",
              "      <td>0</td>\n",
              "      <td>0</td>\n",
              "      <td>0</td>\n",
              "      <td>0</td>\n",
              "      <td>0</td>\n",
              "      <td>0</td>\n",
              "      <td>0</td>\n",
              "      <td>0</td>\n",
              "      <td>0</td>\n",
              "      <td>0</td>\n",
              "      <td>0</td>\n",
              "      <td>0</td>\n",
              "      <td>0</td>\n",
              "      <td>0</td>\n",
              "      <td>0</td>\n",
              "      <td>0</td>\n",
              "      <td>0</td>\n",
              "      <td>0</td>\n",
              "      <td>0</td>\n",
              "      <td>0</td>\n",
              "      <td>0</td>\n",
              "      <td>0</td>\n",
              "      <td>0</td>\n",
              "      <td>0</td>\n",
              "      <td>0</td>\n",
              "      <td>0</td>\n",
              "      <td>0</td>\n",
              "      <td>0</td>\n",
              "      <td>0</td>\n",
              "      <td>0</td>\n",
              "      <td>0</td>\n",
              "      <td>0</td>\n",
              "      <td>0</td>\n",
              "      <td>0</td>\n",
              "      <td>0</td>\n",
              "      <td>0</td>\n",
              "      <td>0</td>\n",
              "      <td>0</td>\n",
              "    </tr>\n",
              "    <tr>\n",
              "      <th>2</th>\n",
              "      <td>0</td>\n",
              "      <td>0</td>\n",
              "      <td>0</td>\n",
              "      <td>0</td>\n",
              "      <td>0</td>\n",
              "      <td>0</td>\n",
              "      <td>0</td>\n",
              "      <td>0</td>\n",
              "      <td>0</td>\n",
              "      <td>0</td>\n",
              "      <td>0</td>\n",
              "      <td>0</td>\n",
              "      <td>0</td>\n",
              "      <td>0</td>\n",
              "      <td>0</td>\n",
              "      <td>0</td>\n",
              "      <td>0</td>\n",
              "      <td>0</td>\n",
              "      <td>0</td>\n",
              "      <td>0</td>\n",
              "      <td>0</td>\n",
              "      <td>0</td>\n",
              "      <td>0</td>\n",
              "      <td>0</td>\n",
              "      <td>0</td>\n",
              "      <td>0</td>\n",
              "      <td>0</td>\n",
              "      <td>0</td>\n",
              "      <td>0</td>\n",
              "      <td>0</td>\n",
              "      <td>0</td>\n",
              "      <td>0</td>\n",
              "      <td>0</td>\n",
              "      <td>0</td>\n",
              "      <td>0</td>\n",
              "      <td>0</td>\n",
              "      <td>0</td>\n",
              "      <td>0</td>\n",
              "      <td>0</td>\n",
              "      <td>0</td>\n",
              "      <td>...</td>\n",
              "      <td>0</td>\n",
              "      <td>0</td>\n",
              "      <td>0</td>\n",
              "      <td>0</td>\n",
              "      <td>0</td>\n",
              "      <td>0</td>\n",
              "      <td>0</td>\n",
              "      <td>0</td>\n",
              "      <td>0</td>\n",
              "      <td>0</td>\n",
              "      <td>0</td>\n",
              "      <td>0</td>\n",
              "      <td>0</td>\n",
              "      <td>0</td>\n",
              "      <td>0</td>\n",
              "      <td>0</td>\n",
              "      <td>0</td>\n",
              "      <td>0</td>\n",
              "      <td>0</td>\n",
              "      <td>0</td>\n",
              "      <td>0</td>\n",
              "      <td>0</td>\n",
              "      <td>0</td>\n",
              "      <td>0</td>\n",
              "      <td>0</td>\n",
              "      <td>0</td>\n",
              "      <td>0</td>\n",
              "      <td>0</td>\n",
              "      <td>0</td>\n",
              "      <td>0</td>\n",
              "      <td>0</td>\n",
              "      <td>0</td>\n",
              "      <td>0</td>\n",
              "      <td>0</td>\n",
              "      <td>0</td>\n",
              "      <td>0</td>\n",
              "      <td>0</td>\n",
              "      <td>0</td>\n",
              "      <td>0</td>\n",
              "      <td>0</td>\n",
              "    </tr>\n",
              "    <tr>\n",
              "      <th>3</th>\n",
              "      <td>0</td>\n",
              "      <td>0</td>\n",
              "      <td>0</td>\n",
              "      <td>0</td>\n",
              "      <td>0</td>\n",
              "      <td>0</td>\n",
              "      <td>0</td>\n",
              "      <td>0</td>\n",
              "      <td>0</td>\n",
              "      <td>0</td>\n",
              "      <td>0</td>\n",
              "      <td>0</td>\n",
              "      <td>0</td>\n",
              "      <td>0</td>\n",
              "      <td>0</td>\n",
              "      <td>0</td>\n",
              "      <td>0</td>\n",
              "      <td>0</td>\n",
              "      <td>0</td>\n",
              "      <td>0</td>\n",
              "      <td>0</td>\n",
              "      <td>0</td>\n",
              "      <td>0</td>\n",
              "      <td>0</td>\n",
              "      <td>0</td>\n",
              "      <td>0</td>\n",
              "      <td>0</td>\n",
              "      <td>0</td>\n",
              "      <td>0</td>\n",
              "      <td>0</td>\n",
              "      <td>0</td>\n",
              "      <td>0</td>\n",
              "      <td>0</td>\n",
              "      <td>0</td>\n",
              "      <td>0</td>\n",
              "      <td>0</td>\n",
              "      <td>0</td>\n",
              "      <td>0</td>\n",
              "      <td>0</td>\n",
              "      <td>0</td>\n",
              "      <td>...</td>\n",
              "      <td>0</td>\n",
              "      <td>0</td>\n",
              "      <td>0</td>\n",
              "      <td>0</td>\n",
              "      <td>0</td>\n",
              "      <td>0</td>\n",
              "      <td>0</td>\n",
              "      <td>0</td>\n",
              "      <td>0</td>\n",
              "      <td>0</td>\n",
              "      <td>0</td>\n",
              "      <td>0</td>\n",
              "      <td>0</td>\n",
              "      <td>0</td>\n",
              "      <td>0</td>\n",
              "      <td>0</td>\n",
              "      <td>0</td>\n",
              "      <td>0</td>\n",
              "      <td>0</td>\n",
              "      <td>0</td>\n",
              "      <td>0</td>\n",
              "      <td>0</td>\n",
              "      <td>0</td>\n",
              "      <td>0</td>\n",
              "      <td>0</td>\n",
              "      <td>0</td>\n",
              "      <td>0</td>\n",
              "      <td>0</td>\n",
              "      <td>0</td>\n",
              "      <td>0</td>\n",
              "      <td>0</td>\n",
              "      <td>0</td>\n",
              "      <td>0</td>\n",
              "      <td>0</td>\n",
              "      <td>0</td>\n",
              "      <td>0</td>\n",
              "      <td>0</td>\n",
              "      <td>0</td>\n",
              "      <td>0</td>\n",
              "      <td>0</td>\n",
              "    </tr>\n",
              "    <tr>\n",
              "      <th>4</th>\n",
              "      <td>0</td>\n",
              "      <td>0</td>\n",
              "      <td>0</td>\n",
              "      <td>0</td>\n",
              "      <td>0</td>\n",
              "      <td>0</td>\n",
              "      <td>0</td>\n",
              "      <td>0</td>\n",
              "      <td>0</td>\n",
              "      <td>0</td>\n",
              "      <td>0</td>\n",
              "      <td>0</td>\n",
              "      <td>0</td>\n",
              "      <td>0</td>\n",
              "      <td>0</td>\n",
              "      <td>0</td>\n",
              "      <td>0</td>\n",
              "      <td>0</td>\n",
              "      <td>0</td>\n",
              "      <td>0</td>\n",
              "      <td>0</td>\n",
              "      <td>0</td>\n",
              "      <td>0</td>\n",
              "      <td>0</td>\n",
              "      <td>0</td>\n",
              "      <td>0</td>\n",
              "      <td>0</td>\n",
              "      <td>0</td>\n",
              "      <td>0</td>\n",
              "      <td>0</td>\n",
              "      <td>0</td>\n",
              "      <td>0</td>\n",
              "      <td>0</td>\n",
              "      <td>0</td>\n",
              "      <td>0</td>\n",
              "      <td>0</td>\n",
              "      <td>0</td>\n",
              "      <td>0</td>\n",
              "      <td>0</td>\n",
              "      <td>0</td>\n",
              "      <td>...</td>\n",
              "      <td>0</td>\n",
              "      <td>0</td>\n",
              "      <td>0</td>\n",
              "      <td>0</td>\n",
              "      <td>0</td>\n",
              "      <td>0</td>\n",
              "      <td>0</td>\n",
              "      <td>0</td>\n",
              "      <td>0</td>\n",
              "      <td>0</td>\n",
              "      <td>0</td>\n",
              "      <td>0</td>\n",
              "      <td>0</td>\n",
              "      <td>0</td>\n",
              "      <td>0</td>\n",
              "      <td>0</td>\n",
              "      <td>0</td>\n",
              "      <td>0</td>\n",
              "      <td>0</td>\n",
              "      <td>0</td>\n",
              "      <td>0</td>\n",
              "      <td>0</td>\n",
              "      <td>0</td>\n",
              "      <td>0</td>\n",
              "      <td>0</td>\n",
              "      <td>0</td>\n",
              "      <td>0</td>\n",
              "      <td>0</td>\n",
              "      <td>0</td>\n",
              "      <td>0</td>\n",
              "      <td>0</td>\n",
              "      <td>0</td>\n",
              "      <td>0</td>\n",
              "      <td>0</td>\n",
              "      <td>0</td>\n",
              "      <td>0</td>\n",
              "      <td>0</td>\n",
              "      <td>0</td>\n",
              "      <td>0</td>\n",
              "      <td>0</td>\n",
              "    </tr>\n",
              "  </tbody>\n",
              "</table>\n",
              "<p>5 rows × 12484 columns</p>\n",
              "</div>"
            ],
            "text/plain": [
              "   aa  aaaa  aaaaaaallll  aaaaaand  ...  ûó  ûóher  ûókody  ûûif\n",
              "0   0     0            0         0  ...   0      0       0     0\n",
              "1   0     0            0         0  ...   0      0       0     0\n",
              "2   0     0            0         0  ...   0      0       0     0\n",
              "3   0     0            0         0  ...   0      0       0     0\n",
              "4   0     0            0         0  ...   0      0       0     0\n",
              "\n",
              "[5 rows x 12484 columns]"
            ]
          },
          "metadata": {},
          "execution_count": 50
        }
      ]
    },
    {
      "cell_type": "markdown",
      "metadata": {
        "id": "maSSgcdY4LbM"
      },
      "source": [
        "## Naive Bayes"
      ]
    },
    {
      "cell_type": "code",
      "metadata": {
        "id": "LmwUAQhy5KCL"
      },
      "source": [
        "NB = MultinomialNB()"
      ],
      "execution_count": 51,
      "outputs": []
    },
    {
      "cell_type": "code",
      "metadata": {
        "colab": {
          "base_uri": "https://localhost:8080/"
        },
        "id": "dcXC3sKL4WMJ",
        "outputId": "220cfe95-8b18-48ce-8992-50de25311492"
      },
      "source": [
        "NB.fit(count_vect_train,y_train)"
      ],
      "execution_count": 52,
      "outputs": [
        {
          "output_type": "execute_result",
          "data": {
            "text/plain": [
              "MultinomialNB(alpha=1.0, class_prior=None, fit_prior=True)"
            ]
          },
          "metadata": {},
          "execution_count": 52
        }
      ]
    },
    {
      "cell_type": "code",
      "metadata": {
        "id": "podp_AJM5VLj"
      },
      "source": [
        "y_pred = NB.predict(count_vect_test)\n"
      ],
      "execution_count": 53,
      "outputs": []
    },
    {
      "cell_type": "code",
      "metadata": {
        "colab": {
          "base_uri": "https://localhost:8080/"
        },
        "id": "RTdMnNyi5dHs",
        "outputId": "387fff1c-6561-40e7-a785-1224a1a4fd7c"
      },
      "source": [
        "# Compute and print the classification report\n",
        "print(classification_report(y_test, y_pred))"
      ],
      "execution_count": 54,
      "outputs": [
        {
          "output_type": "stream",
          "name": "stdout",
          "text": [
            "              precision    recall  f1-score   support\n",
            "\n",
            "           0       0.77      0.87      0.82       840\n",
            "           1       0.81      0.68      0.74       671\n",
            "\n",
            "    accuracy                           0.79      1511\n",
            "   macro avg       0.79      0.78      0.78      1511\n",
            "weighted avg       0.79      0.79      0.78      1511\n",
            "\n"
          ]
        }
      ]
    },
    {
      "cell_type": "code",
      "metadata": {
        "colab": {
          "base_uri": "https://localhost:8080/"
        },
        "id": "PeHd_oZNtFoZ",
        "outputId": "7904e830-2669-4bba-84c2-897489cfe3ff"
      },
      "source": [
        "#Confusion Matrix\n",
        "cmnb = confusion_matrix(y_test, y_pred)\n",
        "print('Confusion matrix\\n\\n', cmnb)"
      ],
      "execution_count": 55,
      "outputs": [
        {
          "output_type": "stream",
          "name": "stdout",
          "text": [
            "Confusion matrix\n",
            "\n",
            " [[732 108]\n",
            " [215 456]]\n"
          ]
        }
      ]
    },
    {
      "cell_type": "code",
      "metadata": {
        "colab": {
          "base_uri": "https://localhost:8080/"
        },
        "id": "avcbbVE-6M_a",
        "outputId": "e80cffcd-ab13-4649-c62f-129b64a2d2a6"
      },
      "source": [
        "#Perhitungan kategori dalam confusion matrix\n",
        "tpnb = cmnb[1,1]\n",
        "tnnb = cmnb[0,0]\n",
        "fpnb = cmnb[0,1]\n",
        "fnnb = cmnb[1,0]\n",
        "\n",
        "print('True Positives(TP) = ', tpnb)\n",
        "print('True Negatives(TN) = ', tnnb)\n",
        "print('False Positives(FP) = ', fpnb)\n",
        "print('False Negatives(FN) = ', fnnb)"
      ],
      "execution_count": 56,
      "outputs": [
        {
          "output_type": "stream",
          "name": "stdout",
          "text": [
            "True Positives(TP) =  456\n",
            "True Negatives(TN) =  732\n",
            "False Positives(FP) =  108\n",
            "False Negatives(FN) =  215\n"
          ]
        }
      ]
    },
    {
      "cell_type": "code",
      "metadata": {
        "colab": {
          "base_uri": "https://localhost:8080/"
        },
        "id": "dMjhjbfH6XdY",
        "outputId": "59bb79d0-1280-4ad4-aac8-dc53cc34e6de"
      },
      "source": [
        "# Perhitungan evaluation metrics\n",
        "accunb = (tpnb+tnnb)/(tpnb+tnnb+fpnb+fnnb)\n",
        "misclassnb = (fnnb+fpnb)/(tpnb+tnnb+fpnb+fnnb)\n",
        "precisnb = tpnb/(tpnb+fpnb)\n",
        "sensinb = tpnb/(tpnb+fnnb)\n",
        "specinb = tnnb/(tnnb+fpnb)\n",
        "f1nb = 2 * (precisnb*sensinb) / (precisnb+sensinb)\n",
        "\n",
        "\n",
        "print('Accuracy is ',accunb)\n",
        "print('Misclassification is ',misclassnb)\n",
        "print('Precision is ',precisnb)\n",
        "print('Sensitivity is ',sensinb)\n",
        "print('Specificity is',specinb)\n",
        "print('F-1 Score is ',f1nb)\n"
      ],
      "execution_count": 57,
      "outputs": [
        {
          "output_type": "stream",
          "name": "stdout",
          "text": [
            "Accuracy is  0.786234281932495\n",
            "Misclassification is  0.21376571806750497\n",
            "Precision is  0.8085106382978723\n",
            "Sensitivity is  0.6795827123695977\n",
            "Specificity is 0.8714285714285714\n",
            "F-1 Score is  0.7384615384615386\n"
          ]
        }
      ]
    },
    {
      "cell_type": "markdown",
      "metadata": {
        "id": "8EbkjsAv680R"
      },
      "source": [
        "## Logistic Regression"
      ]
    },
    {
      "cell_type": "code",
      "metadata": {
        "id": "zCVZVgMO66T5"
      },
      "source": [
        "LogReg = LogisticRegression()"
      ],
      "execution_count": 58,
      "outputs": []
    },
    {
      "cell_type": "code",
      "metadata": {
        "id": "IEp8amW17cGh"
      },
      "source": [
        "LogReg.fit(count_vect_train,y_train)\n",
        "y_predlogreg = LogReg.predict(count_vect_test)\n"
      ],
      "execution_count": 59,
      "outputs": []
    },
    {
      "cell_type": "code",
      "metadata": {
        "colab": {
          "base_uri": "https://localhost:8080/"
        },
        "id": "-la7_B8G7u6x",
        "outputId": "5dec6815-1579-4e11-fe18-7bdc1a4343ae"
      },
      "source": [
        "# Compute and print the classification report\n",
        "print(classification_report(y_test, y_predlogreg))"
      ],
      "execution_count": 60,
      "outputs": [
        {
          "output_type": "stream",
          "name": "stdout",
          "text": [
            "              precision    recall  f1-score   support\n",
            "\n",
            "           0       0.77      0.88      0.82       840\n",
            "           1       0.82      0.66      0.73       671\n",
            "\n",
            "    accuracy                           0.79      1511\n",
            "   macro avg       0.79      0.77      0.78      1511\n",
            "weighted avg       0.79      0.79      0.78      1511\n",
            "\n"
          ]
        }
      ]
    },
    {
      "cell_type": "code",
      "metadata": {
        "colab": {
          "base_uri": "https://localhost:8080/"
        },
        "id": "eOA4jSfq73N4",
        "outputId": "004a5bb6-a8d1-42ed-f15d-5f9e865672ed"
      },
      "source": [
        "#Confusion Matrix\n",
        "cmlogreg = confusion_matrix(y_test, y_predlogreg)\n",
        "print('Confusion matrix\\n\\n', cmlogreg)\n",
        "\n",
        "#Perhitungan kategori dalam confusion matrix\n",
        "tplogreg = cmlogreg[1,1]\n",
        "tnlogreg = cmlogreg[0,0]\n",
        "fplogreg = cmlogreg[0,1]\n",
        "fnlogreg = cmlogreg[1,0]\n",
        "\n",
        "print('True Positives(TP) = ', tplogreg)\n",
        "print('True Negatives(TN) = ', tnlogreg)\n",
        "print('False Positives(FP) = ', fplogreg)\n",
        "print('False Negatives(FN) = ', fnlogreg)\n",
        "\n",
        "# Perhitungan evaluation metrics\n",
        "acculogreg = (tplogreg+tnlogreg)/(tplogreg+tnlogreg+fplogreg+fnlogreg)\n",
        "misclasslogreg = (fnlogreg+fplogreg)/(tplogreg+tnlogreg+fplogreg+fnlogreg)\n",
        "precislogreg = tplogreg/(tplogreg+fplogreg)\n",
        "sensilogreg = tplogreg/(tplogreg+fnlogreg)\n",
        "specilogreg = tnlogreg/(tnlogreg+fplogreg)\n",
        "f1logreg = 2 * (precislogreg*sensilogreg) / (precislogreg+sensilogreg)\n",
        "\n",
        "\n",
        "print('Accuracy is ',acculogreg)\n",
        "print('Misclassification is ',misclasslogreg)\n",
        "print('Precision is ',precislogreg)\n",
        "print('Sensitivity is ',sensilogreg)\n",
        "print('Specificity is',specilogreg)\n",
        "print('F-1 Score is ',f1logreg)\n"
      ],
      "execution_count": 61,
      "outputs": [
        {
          "output_type": "stream",
          "name": "stdout",
          "text": [
            "Confusion matrix\n",
            "\n",
            " [[742  98]\n",
            " [225 446]]\n",
            "True Positives(TP) =  446\n",
            "True Negatives(TN) =  742\n",
            "False Positives(FP) =  98\n",
            "False Negatives(FN) =  225\n",
            "Accuracy is  0.786234281932495\n",
            "Misclassification is  0.21376571806750497\n",
            "Precision is  0.8198529411764706\n",
            "Sensitivity is  0.6646795827123696\n",
            "Specificity is 0.8833333333333333\n",
            "F-1 Score is  0.7341563786008231\n"
          ]
        }
      ]
    },
    {
      "cell_type": "markdown",
      "metadata": {
        "id": "B9HMu0Cf8Rig"
      },
      "source": [
        "## SVM Model"
      ]
    },
    {
      "cell_type": "code",
      "metadata": {
        "id": "YL-6VJeC8TuQ"
      },
      "source": [
        "SVM = SVC()"
      ],
      "execution_count": 62,
      "outputs": []
    },
    {
      "cell_type": "code",
      "metadata": {
        "id": "dsJmHBF9-75v"
      },
      "source": [
        "SVM.fit(count_vect_train,y_train)\n",
        "y_predsvm = SVM.predict(count_vect_test)\n"
      ],
      "execution_count": 63,
      "outputs": []
    },
    {
      "cell_type": "code",
      "metadata": {
        "colab": {
          "base_uri": "https://localhost:8080/"
        },
        "id": "4lK-r706GYMZ",
        "outputId": "b772e441-facd-473d-f274-4f1c17276ec0"
      },
      "source": [
        "# Compute and print the classification report\n",
        "print(classification_report(y_test, y_predsvm))"
      ],
      "execution_count": 64,
      "outputs": [
        {
          "output_type": "stream",
          "name": "stdout",
          "text": [
            "              precision    recall  f1-score   support\n",
            "\n",
            "           0       0.74      0.93      0.82       840\n",
            "           1       0.87      0.60      0.71       671\n",
            "\n",
            "    accuracy                           0.78      1511\n",
            "   macro avg       0.80      0.76      0.77      1511\n",
            "weighted avg       0.80      0.78      0.77      1511\n",
            "\n"
          ]
        }
      ]
    },
    {
      "cell_type": "code",
      "metadata": {
        "colab": {
          "base_uri": "https://localhost:8080/"
        },
        "id": "BLsBS9nRGei5",
        "outputId": "4460509f-601f-4ed3-a478-0fbd422baecb"
      },
      "source": [
        "#Confusion Matrix\n",
        "cmsvm = confusion_matrix(y_test, y_predsvm)\n",
        "print('Confusion matrix\\n\\n', cmsvm)\n",
        "\n",
        "#Perhitungan kategori dalam confusion matrix\n",
        "tpsvm = cmsvm[1,1]\n",
        "tnsvm = cmsvm[0,0]\n",
        "fpsvm = cmsvm[0,1]\n",
        "fnsvm = cmsvm[1,0]\n",
        "\n",
        "print('True Positives(TP) = ', tpsvm)\n",
        "print('True Negatives(TN) = ', tnsvm)\n",
        "print('False Positives(FP) = ', fpsvm)\n",
        "print('False Negatives(FN) = ', fnsvm)\n",
        "\n",
        "# Perhitungan evaluation metrics\n",
        "accusvm = (tpsvm+tnsvm)/(tpsvm+tnsvm+fpsvm+fnsvm)\n",
        "misclasssvm = (fnsvm+fpsvm)/(tpsvm+tnsvm+fpsvm+fnsvm)\n",
        "precissvm = tpsvm/(tpsvm+fpsvm)\n",
        "sensisvm = tpsvm/(tpsvm+fnsvm)\n",
        "specisvm = tnsvm/(tnsvm+fpsvm)\n",
        "f1svm = 2 * (precissvm*sensisvm) / (precissvm+sensisvm)\n",
        "\n",
        "\n",
        "print('Accuracy is ',accusvm)\n",
        "print('Misclassification is ',misclasssvm)\n",
        "print('Precision is ',precissvm)\n",
        "print('Sensitivity is ',sensisvm)\n",
        "print('Specificity is',specisvm)\n",
        "print('F-1 Score is ',f1svm)\n"
      ],
      "execution_count": 65,
      "outputs": [
        {
          "output_type": "stream",
          "name": "stdout",
          "text": [
            "Confusion matrix\n",
            "\n",
            " [[779  61]\n",
            " [271 400]]\n",
            "True Positives(TP) =  400\n",
            "True Negatives(TN) =  779\n",
            "False Positives(FP) =  61\n",
            "False Negatives(FN) =  271\n",
            "Accuracy is  0.7802779616148247\n",
            "Misclassification is  0.21972203838517537\n",
            "Precision is  0.8676789587852495\n",
            "Sensitivity is  0.5961251862891207\n",
            "Specificity is 0.9273809523809524\n",
            "F-1 Score is  0.7067137809187278\n"
          ]
        }
      ]
    },
    {
      "cell_type": "markdown",
      "metadata": {
        "id": "G1jHBqNFGlQI"
      },
      "source": [
        "## Evaluation"
      ]
    },
    {
      "cell_type": "code",
      "metadata": {
        "id": "Zg2Zh-msGnZZ"
      },
      "source": [
        "#Definisikan hasil evaluasi\n",
        "evallogreg = [acculogreg,misclasslogreg,precislogreg,sensilogreg,specilogreg,f1logreg]\n",
        "evalnb = [accunb,misclassnb,precisnb,sensinb,specinb,f1nb]\n",
        "evalsvm = [accusvm,misclasssvm,precissvm,sensisvm,specisvm,f1svm]\n"
      ],
      "execution_count": 66,
      "outputs": []
    },
    {
      "cell_type": "code",
      "metadata": {
        "id": "6r2hvUslHQ4q"
      },
      "source": [
        "evaldf = pd.DataFrame(evallogreg, columns=['Logistic Regression'], index=['Accuracy','Misclassification','Precision','Sensitivity','Specificity','F-1 Score'])"
      ],
      "execution_count": 67,
      "outputs": []
    },
    {
      "cell_type": "code",
      "metadata": {
        "id": "Gg0VPPUxHXZh"
      },
      "source": [
        "evaldf['Naive Bayes'] = evalnb\n",
        "evaldf['Support Vector Machine'] = evalsvm"
      ],
      "execution_count": 68,
      "outputs": []
    },
    {
      "cell_type": "code",
      "metadata": {
        "colab": {
          "base_uri": "https://localhost:8080/",
          "height": 234
        },
        "id": "Dk41y_WqHfmA",
        "outputId": "3c58870d-b32e-48bd-ca61-50e9e778a6bf"
      },
      "source": [
        "evaldf"
      ],
      "execution_count": 69,
      "outputs": [
        {
          "output_type": "execute_result",
          "data": {
            "text/html": [
              "<div>\n",
              "<style scoped>\n",
              "    .dataframe tbody tr th:only-of-type {\n",
              "        vertical-align: middle;\n",
              "    }\n",
              "\n",
              "    .dataframe tbody tr th {\n",
              "        vertical-align: top;\n",
              "    }\n",
              "\n",
              "    .dataframe thead th {\n",
              "        text-align: right;\n",
              "    }\n",
              "</style>\n",
              "<table border=\"1\" class=\"dataframe\">\n",
              "  <thead>\n",
              "    <tr style=\"text-align: right;\">\n",
              "      <th></th>\n",
              "      <th>Logistic Regression</th>\n",
              "      <th>Naive Bayes</th>\n",
              "      <th>Support Vector Machine</th>\n",
              "    </tr>\n",
              "  </thead>\n",
              "  <tbody>\n",
              "    <tr>\n",
              "      <th>Accuracy</th>\n",
              "      <td>0.786234</td>\n",
              "      <td>0.786234</td>\n",
              "      <td>0.780278</td>\n",
              "    </tr>\n",
              "    <tr>\n",
              "      <th>Misclassification</th>\n",
              "      <td>0.213766</td>\n",
              "      <td>0.213766</td>\n",
              "      <td>0.219722</td>\n",
              "    </tr>\n",
              "    <tr>\n",
              "      <th>Precision</th>\n",
              "      <td>0.819853</td>\n",
              "      <td>0.808511</td>\n",
              "      <td>0.867679</td>\n",
              "    </tr>\n",
              "    <tr>\n",
              "      <th>Sensitivity</th>\n",
              "      <td>0.664680</td>\n",
              "      <td>0.679583</td>\n",
              "      <td>0.596125</td>\n",
              "    </tr>\n",
              "    <tr>\n",
              "      <th>Specificity</th>\n",
              "      <td>0.883333</td>\n",
              "      <td>0.871429</td>\n",
              "      <td>0.927381</td>\n",
              "    </tr>\n",
              "    <tr>\n",
              "      <th>F-1 Score</th>\n",
              "      <td>0.734156</td>\n",
              "      <td>0.738462</td>\n",
              "      <td>0.706714</td>\n",
              "    </tr>\n",
              "  </tbody>\n",
              "</table>\n",
              "</div>"
            ],
            "text/plain": [
              "                   Logistic Regression  Naive Bayes  Support Vector Machine\n",
              "Accuracy                      0.786234     0.786234                0.780278\n",
              "Misclassification             0.213766     0.213766                0.219722\n",
              "Precision                     0.819853     0.808511                0.867679\n",
              "Sensitivity                   0.664680     0.679583                0.596125\n",
              "Specificity                   0.883333     0.871429                0.927381\n",
              "F-1 Score                     0.734156     0.738462                0.706714"
            ]
          },
          "metadata": {},
          "execution_count": 69
        }
      ]
    },
    {
      "cell_type": "markdown",
      "metadata": {
        "id": "3uqifWtLHmIJ"
      },
      "source": [
        "## Kesimpulan\n",
        "1. Model Logistic Regresson memiliki nilai akurasi yang tinggi, namun untuk sensitivity dan f1 score masih lebih rendah dibandingkan dengan Naive Bayes, dan untuk precision dan specificity masih lebih rendah dibandingkan dengan SVM.\n",
        "2. Model SVM memiliki tingkat specificity dan precision yang paling tinggi, namun untuk sensitivity, akurasi dan f1 score masih lebih rendah dibandingkan dengan model lainnya\n",
        "3. Model Naive Bayes memiliki tingkat akurasi, sensitivity dan f1 score yang paling tinggi, namun untuk precision dan specificity masih lebih rendah dibandingkan dengan model lainnya\n",
        "4. Ketiga model tersebut sudah cukup baik dalam memprediksi disaster tweet."
      ]
    }
  ]
}